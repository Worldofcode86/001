{
 "cells": [
  {
   "cell_type": "markdown",
   "id": "416287af-e596-4820-afb4-e7a820271215",
   "metadata": {},
   "source": [
    "# loop"
   ]
  },
  {
   "cell_type": "markdown",
   "id": "b15c2c70-0f1f-4d91-bb08-dece9e6443f4",
   "metadata": {},
   "source": [
    "For loop is going to iterate objects one by one "
   ]
  },
  {
   "cell_type": "code",
   "execution_count": 1,
   "id": "7ed00e84-8abe-4e08-a4f1-e05672948a54",
   "metadata": {},
   "outputs": [],
   "source": [
    "l = ['H', 'E', 'L', 'L', 'O', 'I']"
   ]
  },
  {
   "cell_type": "code",
   "execution_count": 2,
   "id": "a0eafce1-7d57-4f9f-a694-19fdaae1fabb",
   "metadata": {},
   "outputs": [
    {
     "name": "stdout",
     "output_type": "stream",
     "text": [
      "H\n",
      "E\n",
      "L\n",
      "L\n",
      "O\n",
      "I\n"
     ]
    }
   ],
   "source": [
    "for char in l:\n",
    "    print(char)"
   ]
  },
  {
   "cell_type": "code",
   "execution_count": 3,
   "id": "f0399fb1-d554-41a0-a90f-d5fd224f2da0",
   "metadata": {},
   "outputs": [],
   "source": [
    "d = [15,25,35,45,55]"
   ]
  },
  {
   "cell_type": "code",
   "execution_count": 4,
   "id": "fefd6f70-3334-42b8-b51c-80d783fd8edf",
   "metadata": {},
   "outputs": [
    {
     "name": "stdout",
     "output_type": "stream",
     "text": [
      "15\n",
      "25\n",
      "35\n",
      "45\n",
      "55\n"
     ]
    }
   ],
   "source": [
    "for num in d:\n",
    "    print(num)"
   ]
  },
  {
   "cell_type": "code",
   "execution_count": 5,
   "id": "89cc1d1b-778e-467d-bf8e-4198cf8bd6cb",
   "metadata": {},
   "outputs": [
    {
     "name": "stdout",
     "output_type": "stream",
     "text": [
      "20\n",
      "30\n",
      "40\n",
      "50\n",
      "60\n"
     ]
    }
   ],
   "source": [
    "for num in d:\n",
    "    print(num + 5)"
   ]
  },
  {
   "cell_type": "code",
   "execution_count": 6,
   "id": "bb87317e-e16a-4838-9331-b13ed86334bf",
   "metadata": {},
   "outputs": [
    {
     "name": "stdout",
     "output_type": "stream",
     "text": [
      "c\n",
      "a\n",
      "l\n",
      "l\n"
     ]
    }
   ],
   "source": [
    "for i in 'call':\n",
    "    print(i)"
   ]
  },
  {
   "cell_type": "code",
   "execution_count": 8,
   "id": "e7cc3726-4791-49ca-8bcf-b435dbf0dfef",
   "metadata": {},
   "outputs": [
    {
     "ename": "TypeError",
     "evalue": "'int' object is not iterable",
     "output_type": "error",
     "traceback": [
      "\u001b[1;31m---------------------------------------------------------------------------\u001b[0m",
      "\u001b[1;31mTypeError\u001b[0m                                 Traceback (most recent call last)",
      "Cell \u001b[1;32mIn[8], line 1\u001b[0m\n\u001b[1;32m----> 1\u001b[0m \u001b[38;5;28;01mfor\u001b[39;00m i \u001b[38;5;129;01min\u001b[39;00m \u001b[38;5;241m150\u001b[39m:\n\u001b[0;32m      2\u001b[0m     \u001b[38;5;28mprint\u001b[39m(i)\n",
      "\u001b[1;31mTypeError\u001b[0m: 'int' object is not iterable"
     ]
    }
   ],
   "source": [
    "for i in 150:\n",
    "    print(i) # it is not iterable"
   ]
  },
  {
   "cell_type": "code",
   "execution_count": 9,
   "id": "f40b25e2-cd0e-4410-948b-1c75fed82925",
   "metadata": {},
   "outputs": [],
   "source": [
    "t = (1,2,3,4,5)"
   ]
  },
  {
   "cell_type": "code",
   "execution_count": 10,
   "id": "3236db4f-842f-4045-b4ce-25c604ed1c5d",
   "metadata": {},
   "outputs": [
    {
     "name": "stdout",
     "output_type": "stream",
     "text": [
      "1\n",
      "2\n",
      "3\n",
      "4\n",
      "5\n"
     ]
    }
   ],
   "source": [
    "for numbers in t:\n",
    "    print(numbers)"
   ]
  },
  {
   "cell_type": "code",
   "execution_count": 11,
   "id": "0db02663-7d8c-44db-9ac4-d37fcd3ca855",
   "metadata": {},
   "outputs": [],
   "source": [
    "y = (100,10)"
   ]
  },
  {
   "cell_type": "code",
   "execution_count": 12,
   "id": "6e5f539b-2d69-4b1b-ba89-5c4ce3b64921",
   "metadata": {},
   "outputs": [
    {
     "name": "stdout",
     "output_type": "stream",
     "text": [
      "100\n",
      "10\n"
     ]
    }
   ],
   "source": [
    "for data in y:\n",
    "    print(data)"
   ]
  },
  {
   "cell_type": "code",
   "execution_count": 13,
   "id": "0a5940d0-ae22-4dbc-a591-7ba42e6829de",
   "metadata": {},
   "outputs": [
    {
     "name": "stdout",
     "output_type": "stream",
     "text": [
      "m\n",
      "a\n",
      "t\n",
      "h\n",
      "s\n"
     ]
    }
   ],
   "source": [
    "for i in 'maths':\n",
    "    print(i)"
   ]
  },
  {
   "cell_type": "code",
   "execution_count": 20,
   "id": "194bac14-3a35-43be-8da5-0e23a4eed86b",
   "metadata": {},
   "outputs": [],
   "source": [
    "names = ['Vaibhav', 'Vinit', 'Sandesh', 'Vaishnavi', 'Ankita', 'Rijuta']"
   ]
  },
  {
   "cell_type": "code",
   "execution_count": 27,
   "id": "bb0545ec-a2fd-49fd-9406-7d95a76894a7",
   "metadata": {},
   "outputs": [
    {
     "name": "stdout",
     "output_type": "stream",
     "text": [
      "hi Vaibhav\n",
      "hi Vinit\n",
      "hi Sandesh\n",
      "hi Vaishnavi\n",
      "hi Ankita\n",
      "hi Rijuta\n"
     ]
    }
   ],
   "source": [
    "for i in names:\n",
    "    print('hi '+ i)"
   ]
  },
  {
   "cell_type": "code",
   "execution_count": null,
   "id": "05d48394-2e92-454f-9e2c-3afd41c4e833",
   "metadata": {},
   "outputs": [],
   "source": []
  }
 ],
 "metadata": {
  "kernelspec": {
   "display_name": "Python 3 (ipykernel)",
   "language": "python",
   "name": "python3"
  },
  "language_info": {
   "codemirror_mode": {
    "name": "ipython",
    "version": 3
   },
   "file_extension": ".py",
   "mimetype": "text/x-python",
   "name": "python",
   "nbconvert_exporter": "python",
   "pygments_lexer": "ipython3",
   "version": "3.12.7"
  }
 },
 "nbformat": 4,
 "nbformat_minor": 5
}
