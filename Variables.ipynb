{
 "cells": [
  {
   "cell_type": "markdown",
   "id": "f8ad47a2-9a91-44a3-84d2-0df3d88ef2a1",
   "metadata": {},
   "source": [
    "# Print function"
   ]
  },
  {
   "cell_type": "raw",
   "id": "a8c14f62-9704-4345-b8f0-0dc70bb3ef1d",
   "metadata": {},
   "source": [
    "it will project the object\n",
    "Ex-projector"
   ]
  },
  {
   "cell_type": "markdown",
   "id": "e9b14b89-54d9-45a9-ba29-c4af665acc99",
   "metadata": {},
   "source": [
    "# variables"
   ]
  },
  {
   "cell_type": "raw",
   "id": "3d218aaf-87ce-4b9e-bbd8-87abacd07fad",
   "metadata": {},
   "source": [
    "If we have to store any objects \n",
    "Ex-a=5 a is variable and 5 is object\n",
    "Restrictions\n",
    "1"
   ]
  }
 ],
 "metadata": {
  "kernelspec": {
   "display_name": "Python 3 (ipykernel)",
   "language": "python",
   "name": "python3"
  },
  "language_info": {
   "codemirror_mode": {
    "name": "ipython",
    "version": 3
   },
   "file_extension": ".py",
   "mimetype": "text/x-python",
   "name": "python",
   "nbconvert_exporter": "python",
   "pygments_lexer": "ipython3",
   "version": "3.12.7"
  }
 },
 "nbformat": 4,
 "nbformat_minor": 5
}
