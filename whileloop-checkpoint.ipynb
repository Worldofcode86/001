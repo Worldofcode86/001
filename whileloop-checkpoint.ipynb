{
 "cells": [
  {
   "cell_type": "raw",
   "id": "e7bd8101-2697-44c7-8194-082f8d6c91c3",
   "metadata": {},
   "source": [
    "while loop runs infinite time \n",
    "*after some time our condition should gets false "
   ]
  },
  {
   "cell_type": "code",
   "execution_count": 10,
   "id": "ebbb7ebf-f1e4-4969-a08b-f50005dacf8e",
   "metadata": {},
   "outputs": [],
   "source": [
    "age=30"
   ]
  },
  {
   "cell_type": "code",
   "execution_count": 11,
   "id": "a3c73fca-c525-4aaa-bf11-7886a4b4bdc1",
   "metadata": {},
   "outputs": [
    {
     "name": "stdout",
     "output_type": "stream",
     "text": [
      "elder 30\n",
      "elder 32\n",
      "elder 34\n",
      "elder 36\n",
      "elder 38\n"
     ]
    }
   ],
   "source": [
    "while age < 40:\n",
    "    print('elder', age)\n",
    "    age = age + 2"
   ]
  },
  {
   "cell_type": "code",
   "execution_count": 2,
   "id": "90789146-157c-47ca-8dd6-1e6abd7f661a",
   "metadata": {},
   "outputs": [],
   "source": [
    "marks = 38"
   ]
  },
  {
   "cell_type": "code",
   "execution_count": 3,
   "id": "8bd556a2-a480-42e1-b2c7-e6659c69f6f2",
   "metadata": {},
   "outputs": [
    {
     "name": "stdout",
     "output_type": "stream",
     "text": [
      "38\n",
      "37\n",
      "36\n"
     ]
    }
   ],
   "source": [
    "while marks > 35:\n",
    "    print(marks)\n",
    "    marks = marks - 1"
   ]
  },
  {
   "cell_type": "code",
   "execution_count": 5,
   "id": "993a0b18-279c-4dba-a748-aeb3c426db3f",
   "metadata": {},
   "outputs": [
    {
     "data": {
      "text/plain": [
       "True"
      ]
     },
     "execution_count": 5,
     "metadata": {},
     "output_type": "execute_result"
    }
   ],
   "source": [
    "'hi'=='hi'\n"
   ]
  },
  {
   "cell_type": "code",
   "execution_count": 6,
   "id": "13c5d4b4-e533-4acb-bdec-d76c4a203650",
   "metadata": {},
   "outputs": [
    {
     "data": {
      "text/plain": [
       "False"
      ]
     },
     "execution_count": 6,
     "metadata": {},
     "output_type": "execute_result"
    }
   ],
   "source": [
    "'hi'!='hi'"
   ]
  },
  {
   "cell_type": "code",
   "execution_count": 7,
   "id": "d20f4f35-d87a-476b-9772-dc7fe355cf7b",
   "metadata": {},
   "outputs": [],
   "source": [
    "button = 'hello'"
   ]
  },
  {
   "cell_type": "code",
   "execution_count": 8,
   "id": "5a0b5a70-f2fe-4889-a51c-a45461fbdc75",
   "metadata": {},
   "outputs": [
    {
     "name": "stdout",
     "output_type": "stream",
     "text": [
      "hello\n"
     ]
    },
    {
     "name": "stdin",
     "output_type": "stream",
     "text": [
      "enter \"stop\" to exit loop ok\n"
     ]
    },
    {
     "name": "stdout",
     "output_type": "stream",
     "text": [
      "ok\n"
     ]
    },
    {
     "name": "stdin",
     "output_type": "stream",
     "text": [
      "enter \"stop\" to exit loop no\n"
     ]
    },
    {
     "name": "stdout",
     "output_type": "stream",
     "text": [
      "no\n"
     ]
    },
    {
     "name": "stdin",
     "output_type": "stream",
     "text": [
      "enter \"stop\" to exit loop stop\n"
     ]
    }
   ],
   "source": [
    "button = 'hello'\n",
    "while button != 'stop':\n",
    "    print(button)\n",
    "    button = input('enter \"stop\" to exit loop')"
   ]
  },
  {
   "cell_type": "code",
   "execution_count": 18,
   "id": "c41e9997-0a43-46a4-b644-5bb186914e2c",
   "metadata": {},
   "outputs": [
    {
     "name": "stdout",
     "output_type": "stream",
     "text": [
      "20\n",
      "19\n",
      "18\n",
      "17\n",
      "16\n",
      "15\n",
      "14\n",
      "13\n",
      "12\n",
      "11\n",
      "10\n",
      "9\n",
      "8\n",
      "7\n",
      "6\n",
      "5\n",
      "4\n",
      "3\n",
      "2\n",
      "1\n"
     ]
    }
   ],
   "source": [
    "num = 20\n",
    "while num > 0:\n",
    "    print(num)\n",
    "    num = num - 1"
   ]
  },
  {
   "cell_type": "code",
   "execution_count": 22,
   "id": "387f2dc2-a4e3-4f8e-9f15-e6e595da8776",
   "metadata": {},
   "outputs": [],
   "source": [
    "num = 20\n",
    "sum = 0\n",
    "while num > 0:\n",
    "    sum = sum + num\n",
    "    num = num - 1"
   ]
  },
  {
   "cell_type": "code",
   "execution_count": 23,
   "id": "6d65e63d-1171-478b-8675-c3e280da9a6a",
   "metadata": {},
   "outputs": [
    {
     "data": {
      "text/plain": [
       "210"
      ]
     },
     "execution_count": 23,
     "metadata": {},
     "output_type": "execute_result"
    }
   ],
   "source": [
    "sum "
   ]
  },
  {
   "cell_type": "code",
   "execution_count": 24,
   "id": "5c641f1a-af67-43a9-aabe-ba8aaf4bc185",
   "metadata": {},
   "outputs": [],
   "source": [
    "sum = 0\n",
    "for i in range(1,11):\n",
    "    sum = sum + i"
   ]
  },
  {
   "cell_type": "code",
   "execution_count": 26,
   "id": "0860d421-7499-498f-9912-e5674199798e",
   "metadata": {},
   "outputs": [
    {
     "data": {
      "text/plain": [
       "55"
      ]
     },
     "execution_count": 26,
     "metadata": {},
     "output_type": "execute_result"
    }
   ],
   "source": [
    "sum"
   ]
  },
  {
   "cell_type": "code",
   "execution_count": 27,
   "id": "168a766e-18ae-4436-b4ef-05bdbaefd948",
   "metadata": {},
   "outputs": [],
   "source": [
    "#sum of natural numbers"
   ]
  },
  {
   "cell_type": "code",
   "execution_count": 28,
   "id": "5248b2a2-60bf-4ed6-ade4-eff8f84d17a8",
   "metadata": {},
   "outputs": [],
   "source": [
    "n = 15"
   ]
  },
  {
   "cell_type": "code",
   "execution_count": 29,
   "id": "6db38cac-0469-40e8-b043-4ca5e10431a8",
   "metadata": {},
   "outputs": [
    {
     "data": {
      "text/plain": [
       "120.0"
      ]
     },
     "execution_count": 29,
     "metadata": {},
     "output_type": "execute_result"
    }
   ],
   "source": [
    "n*(n+1) / 2"
   ]
  },
  {
   "cell_type": "code",
   "execution_count": 30,
   "id": "d9381c8f-e208-476c-bb3c-bc7323d8a1b3",
   "metadata": {},
   "outputs": [],
   "source": [
    "#break, continue,pass"
   ]
  },
  {
   "cell_type": "code",
   "execution_count": 33,
   "id": "28f9f407-54f7-427f-816a-9334222599c2",
   "metadata": {},
   "outputs": [],
   "source": [
    "for i in range(1,5):\n",
    "    if i == 3:\n",
    "        break\n",
    "        print(i)\n"
   ]
  },
  {
   "cell_type": "code",
   "execution_count": 34,
   "id": "de54158b-f5a3-43b0-acd6-36df31ecd368",
   "metadata": {},
   "outputs": [
    {
     "data": {
      "text/plain": [
       "3"
      ]
     },
     "execution_count": 34,
     "metadata": {},
     "output_type": "execute_result"
    }
   ],
   "source": [
    "i"
   ]
  },
  {
   "cell_type": "code",
   "execution_count": 37,
   "id": "47334545-1b4e-4373-b2da-7c6b1c7c968c",
   "metadata": {},
   "outputs": [
    {
     "name": "stdout",
     "output_type": "stream",
     "text": [
      "d\n",
      "a\n",
      "t\n",
      "a\n",
      " \n",
      "s\n"
     ]
    }
   ],
   "source": [
    "for i in 'data science':\n",
    "    if i == 'c':\n",
    "        break\n",
    "    print(i)\n",
    "\n"
   ]
  },
  {
   "cell_type": "code",
   "execution_count": 38,
   "id": "0d6c0fe1-83af-414d-8f3d-94c8752a4577",
   "metadata": {},
   "outputs": [],
   "source": [
    "# continue"
   ]
  },
  {
   "cell_type": "code",
   "execution_count": 61,
   "id": "3cb1b6c7-c025-42f1-b59d-357bd660afa5",
   "metadata": {},
   "outputs": [
    {
     "name": "stdout",
     "output_type": "stream",
     "text": [
      "1\n",
      "2\n",
      "4\n"
     ]
    }
   ],
   "source": [
    "for i in range(1,5) :\n",
    "    if i == 3:\n",
    "        continue\n",
    "    print(i) "
   ]
  },
  {
   "cell_type": "code",
   "execution_count": null,
   "id": "59a14486-7129-4d6c-8fa9-5ddb39f31ca3",
   "metadata": {},
   "outputs": [],
   "source": []
  },
  {
   "cell_type": "code",
   "execution_count": 62,
   "id": "6a5363ff-8ec9-4313-b5be-393250d1b01b",
   "metadata": {},
   "outputs": [
    {
     "name": "stdout",
     "output_type": "stream",
     "text": [
      "1\n",
      "2\n",
      "4\n",
      "5\n",
      "6\n",
      "7\n",
      "8\n",
      "9\n",
      "10\n",
      "11\n",
      "12\n",
      "13\n",
      "14\n"
     ]
    }
   ],
   "source": [
    "for i in range(1, 15):\n",
    "    if i == 3:\n",
    "        continue\n",
    "    print(i)\n"
   ]
  },
  {
   "cell_type": "code",
   "execution_count": 63,
   "id": "31ff3a25-5061-429f-8cf9-6d0f0dc7c868",
   "metadata": {},
   "outputs": [],
   "source": [
    "#paass it does n0t havealue"
   ]
  },
  {
   "cell_type": "code",
   "execution_count": 64,
   "id": "aa5aa581-9341-4b8c-bdc9-72d49a438a8a",
   "metadata": {},
   "outputs": [],
   "source": [
    "for i in range(1,5):\n",
    "    pass"
   ]
  },
  {
   "cell_type": "code",
   "execution_count": null,
   "id": "14fe87d6-9a88-418c-9bf3-cdab60772c9a",
   "metadata": {},
   "outputs": [],
   "source": []
  }
 ],
 "metadata": {
  "kernelspec": {
   "display_name": "Python 3 (ipykernel)",
   "language": "python",
   "name": "python3"
  },
  "language_info": {
   "codemirror_mode": {
    "name": "ipython",
    "version": 3
   },
   "file_extension": ".py",
   "mimetype": "text/x-python",
   "name": "python",
   "nbconvert_exporter": "python",
   "pygments_lexer": "ipython3",
   "version": "3.12.7"
  }
 },
 "nbformat": 4,
 "nbformat_minor": 5
}
