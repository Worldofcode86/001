{
 "cells": [
  {
   "cell_type": "code",
   "execution_count": 4,
   "id": "f7b2eb13-3504-4f00-a3e1-01a080415c42",
   "metadata": {},
   "outputs": [],
   "source": [
    "marks= 38 "
   ]
  },
  {
   "cell_type": "code",
   "execution_count": 5,
   "id": "2154419d-1788-4a5a-8d7d-b2ddb5ac9591",
   "metadata": {},
   "outputs": [
    {
     "name": "stdout",
     "output_type": "stream",
     "text": [
      "pass\n"
     ]
    }
   ],
   "source": [
    "if marks > 35:\n",
    "    print('pass')\n",
    "else:\n",
    "    print('fail')\n",
    "    "
   ]
  },
  {
   "cell_type": "markdown",
   "id": "4cc059bd-9580-434e-8396-37324f224844",
   "metadata": {},
   "source": [
    "# Multiple conditions "
   ]
  },
  {
   "cell_type": "markdown",
   "id": "88be2fd4-7c3a-41f4-8aa1-55816f3346f1",
   "metadata": {},
   "source": [
    "use elif for multiple conditions \n"
   ]
  },
  {
   "cell_type": "code",
   "execution_count": 6,
   "id": "e0f46388-54c8-471b-9f97-ce6fdb38f671",
   "metadata": {},
   "outputs": [],
   "source": [
    "age=30"
   ]
  },
  {
   "cell_type": "code",
   "execution_count": 7,
   "id": "7a6efaff-b364-4aaf-8138-d2be6ae4879f",
   "metadata": {},
   "outputs": [
    {
     "name": "stdout",
     "output_type": "stream",
     "text": [
      "student\n"
     ]
    }
   ],
   "source": [
    "if age > 90:\n",
    "    print('old person')\n",
    "elif age > 30:\n",
    "    print('working person')\n",
    "elif age > 5:\n",
    "    print('student')\n",
    "else:\n",
    "    print('small baby')\n",
    " \n",
    "\n"
   ]
  },
  {
   "cell_type": "code",
   "execution_count": 2,
   "id": "2adb2376-be8e-41db-a587-31fe24ecbecb",
   "metadata": {},
   "outputs": [
    {
     "name": "stdout",
     "output_type": "stream",
     "text": [
      "Fail\n"
     ]
    }
   ],
   "source": [
    "marks = 8\n",
    "if marks > 90 :\n",
    "    print('A+')\n",
    "elif marks > 70:\n",
    "    print('B')\n",
    "elif marks > 50:\n",
    "    print('C')\n",
    "elif marks > 35:\n",
    "    print('Pass')\n",
    "else:\n",
    "    print('Fail')"
   ]
  },
  {
   "cell_type": "code",
   "execution_count": 3,
   "id": "49e0f905-f518-4cfa-b90c-39690bc5c503",
   "metadata": {},
   "outputs": [
    {
     "name": "stdout",
     "output_type": "stream",
     "text": [
      "Please write marks between range of 0-100\n"
     ]
    }
   ],
   "source": [
    "marks = 90\n",
    "if marks> 90 and marks < 100:\n",
    "    print('A+')\n",
    "elif marks > 70 and marks < 90:\n",
    "    print('B')\n",
    "elif marks > 50 and marks < 70:\n",
    "    print('C')\n",
    "elif marks > 35 and marks < 50:\n",
    "    print('Pass')\n",
    "elif marks > 0 and marks < 35:\n",
    "    print('Fail')\n",
    "else:\n",
    "    print('Please write marks between range of 0-100')"
   ]
  },
  {
   "cell_type": "code",
   "execution_count": 4,
   "id": "896f5859-d129-44ec-a398-693d15eca2e1",
   "metadata": {},
   "outputs": [
    {
     "name": "stdout",
     "output_type": "stream",
     "text": [
      "True\n"
     ]
    }
   ],
   "source": [
    "if 10 > 60 or 10 < 20:\n",
    "    print(True)\n",
    "else:\n",
    "    print(False)"
   ]
  },
  {
   "cell_type": "code",
   "execution_count": null,
   "id": "ee65c9ba-37c7-44c5-9822-1772629ab7f3",
   "metadata": {},
   "outputs": [],
   "source": []
  }
 ],
 "metadata": {
  "kernelspec": {
   "display_name": "Python 3 (ipykernel)",
   "language": "python",
   "name": "python3"
  },
  "language_info": {
   "codemirror_mode": {
    "name": "ipython",
    "version": 3
   },
   "file_extension": ".py",
   "mimetype": "text/x-python",
   "name": "python",
   "nbconvert_exporter": "python",
   "pygments_lexer": "ipython3",
   "version": "3.12.7"
  }
 },
 "nbformat": 4,
 "nbformat_minor": 5
}
