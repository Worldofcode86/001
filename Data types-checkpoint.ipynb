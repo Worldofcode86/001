{
 "cells": [
  {
   "cell_type": "markdown",
   "id": "0fb8c37e-9437-4882-ad03-b86fe41201be",
   "metadata": {},
   "source": [
    "# datatypes"
   ]
  },
  {
   "cell_type": "markdown",
   "id": "e38ade29-37cf-4d78-8b56-c71c1f30ea20",
   "metadata": {},
   "source": [
    "# Integer"
   ]
  },
  {
   "cell_type": "code",
   "execution_count": 1,
   "id": "fc221518-2ac0-4a58-81d2-a83f73a0de86",
   "metadata": {},
   "outputs": [
    {
     "ename": "NameError",
     "evalue": "name 'Type' is not defined",
     "output_type": "error",
     "traceback": [
      "\u001b[1;31m---------------------------------------------------------------------------\u001b[0m",
      "\u001b[1;31mNameError\u001b[0m                                 Traceback (most recent call last)",
      "Cell \u001b[1;32mIn[1], line 1\u001b[0m\n\u001b[1;32m----> 1\u001b[0m Type(\u001b[38;5;241m1\u001b[39m)\n",
      "\u001b[1;31mNameError\u001b[0m: name 'Type' is not defined"
     ]
    }
   ],
   "source": [
    "Type(1)"
   ]
  },
  {
   "cell_type": "code",
   "execution_count": 2,
   "id": "393ca3a6-d505-4749-8b69-c2e775c93a18",
   "metadata": {},
   "outputs": [
    {
     "data": {
      "text/plain": [
       "int"
      ]
     },
     "execution_count": 2,
     "metadata": {},
     "output_type": "execute_result"
    }
   ],
   "source": [
    "type(1)"
   ]
  },
  {
   "cell_type": "raw",
   "id": "fee9cf87-2735-468c-bc5c-394bc7416361",
   "metadata": {},
   "source": [
    "Data type of objects "
   ]
  },
  {
   "cell_type": "raw",
   "id": "ac1331ea-7f0d-4624-95ff-a2b8fbe2d8ad",
   "metadata": {},
   "source": [
    "Ex 1,2,3"
   ]
  },
  {
   "cell_type": "markdown",
   "id": "5b970626-d4b9-4934-9b75-2603c615b294",
   "metadata": {},
   "source": [
    "# 2float"
   ]
  },
  {
   "cell_type": "raw",
   "id": "768cd538-4dbf-4b06-957b-d723f9f17766",
   "metadata": {},
   "source": [
    "value in decimal format \n",
    "Ex-1.5,2.5"
   ]
  },
  {
   "cell_type": "code",
   "execution_count": 4,
   "id": "fd62874e-4e0f-492b-8ea9-03386ca65754",
   "metadata": {},
   "outputs": [
    {
     "ename": "NameError",
     "evalue": "name 'Type' is not defined",
     "output_type": "error",
     "traceback": [
      "\u001b[1;31m---------------------------------------------------------------------------\u001b[0m",
      "\u001b[1;31mNameError\u001b[0m                                 Traceback (most recent call last)",
      "Cell \u001b[1;32mIn[4], line 1\u001b[0m\n\u001b[1;32m----> 1\u001b[0m Type(\u001b[38;5;241m6.5\u001b[39m)\n",
      "\u001b[1;31mNameError\u001b[0m: name 'Type' is not defined"
     ]
    }
   ],
   "source": [
    "Type(6.5)"
   ]
  },
  {
   "cell_type": "code",
   "execution_count": 5,
   "id": "250462b9-60a1-4050-aecc-254c12c1b7fa",
   "metadata": {},
   "outputs": [
    {
     "data": {
      "text/plain": [
       "float"
      ]
     },
     "execution_count": 5,
     "metadata": {},
     "output_type": "execute_result"
    }
   ],
   "source": [
    "type(6.5)"
   ]
  },
  {
   "cell_type": "markdown",
   "id": "16feef0e-5db7-4983-8c98-c95405e57e0a",
   "metadata": {},
   "source": [
    "# 3 complex number"
   ]
  },
  {
   "cell_type": "raw",
   "id": "87f5a78e-ead2-4431-9433-3389a18b3acd",
   "metadata": {},
   "source": [
    "Values of vector\n",
    "Ex-(10+5j)"
   ]
  },
  {
   "cell_type": "code",
   "execution_count": 6,
   "id": "5ba51078-82c8-4fa4-9c0d-20d5e328ccbc",
   "metadata": {},
   "outputs": [
    {
     "data": {
      "text/plain": [
       "complex"
      ]
     },
     "execution_count": 6,
     "metadata": {},
     "output_type": "execute_result"
    }
   ],
   "source": [
    " type(10+5j)"
   ]
  },
  {
   "cell_type": "markdown",
   "id": "743a28a2-70e1-4a61-9ba3-0f690f718205",
   "metadata": {},
   "source": [
    "# 4.sring"
   ]
  },
  {
   "cell_type": "raw",
   "id": "dd5298a9-2aca-4f04-a87e-7c0dc491abe9",
   "metadata": {},
   "source": [
    "Word,character,sentence written in' \n",
    "Ex-'hello python' for multiple sentences yse 3 quote "
   ]
  },
  {
   "cell_type": "code",
   "execution_count": 7,
   "id": "55a86efc-5ca0-467d-8a3f-e24af6b7ae21",
   "metadata": {},
   "outputs": [
    {
     "ename": "SyntaxError",
     "evalue": "invalid syntax (2802008734.py, line 1)",
     "output_type": "error",
     "traceback": [
      "\u001b[1;36m  Cell \u001b[1;32mIn[7], line 1\u001b[1;36m\u001b[0m\n\u001b[1;33m    type 'hello'\u001b[0m\n\u001b[1;37m         ^\u001b[0m\n\u001b[1;31mSyntaxError\u001b[0m\u001b[1;31m:\u001b[0m invalid syntax\n"
     ]
    }
   ],
   "source": [
    "type 'hello'"
   ]
  },
  {
   "cell_type": "code",
   "execution_count": 8,
   "id": "ab02c422-b065-40b6-b2ff-4adf6b6a4359",
   "metadata": {},
   "outputs": [
    {
     "data": {
      "text/plain": [
       "'hllo'"
      ]
     },
     "execution_count": 8,
     "metadata": {},
     "output_type": "execute_result"
    }
   ],
   "source": [
    "\"hllo\""
   ]
  },
  {
   "cell_type": "markdown",
   "id": "b4d10b91-65c9-4090-95c5-2171dccb1928",
   "metadata": {},
   "source": [
    "# 5 boolean values"
   ]
  },
  {
   "cell_type": "raw",
   "id": "d896bac2-a094-4a45-b78f-04dbff5d53e2",
   "metadata": {},
   "source": [
    "True or false types of values \n"
   ]
  },
  {
   "cell_type": "code",
   "execution_count": 9,
   "id": "ed03afb8-ada8-4c14-8d76-b8762e2b26f0",
   "metadata": {},
   "outputs": [
    {
     "data": {
      "text/plain": [
       "True"
      ]
     },
     "execution_count": 9,
     "metadata": {},
     "output_type": "execute_result"
    }
   ],
   "source": [
    "10<60"
   ]
  },
  {
   "cell_type": "code",
   "execution_count": null,
   "id": "66e5b468-b936-42d5-b343-8cb9086ecc8c",
   "metadata": {},
   "outputs": [],
   "source": []
  }
 ],
 "metadata": {
  "kernelspec": {
   "display_name": "Python 3 (ipykernel)",
   "language": "python",
   "name": "python3"
  },
  "language_info": {
   "codemirror_mode": {
    "name": "ipython",
    "version": 3
   },
   "file_extension": ".py",
   "mimetype": "text/x-python",
   "name": "python",
   "nbconvert_exporter": "python",
   "pygments_lexer": "ipython3",
   "version": "3.12.7"
  }
 },
 "nbformat": 4,
 "nbformat_minor": 5
}
