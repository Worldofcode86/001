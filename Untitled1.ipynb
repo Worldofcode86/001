{
 "cells": [
  {
   "cell_type": "code",
   "execution_count": 6,
   "id": "76c13dee-1f25-4352-80eb-d85764365bc0",
   "metadata": {},
   "outputs": [],
   "source": [
    "num = 20\n",
    "Sum = 0\n",
    "while num > 0:\n",
    "    Sum = Sum + num\n",
    "    num = num - 1"
   ]
  },
  {
   "cell_type": "code",
   "execution_count": 7,
   "id": "7fc85ec3-f08a-4855-9ac5-9c1034b4b76e",
   "metadata": {},
   "outputs": [
    {
     "data": {
      "text/plain": [
       "210"
      ]
     },
     "execution_count": 7,
     "metadata": {},
     "output_type": "execute_result"
    }
   ],
   "source": [
    "Sum"
   ]
  },
  {
   "cell_type": "code",
   "execution_count": 17,
   "id": "0661b8f5-f434-42e2-acf8-9c43d07f67d2",
   "metadata": {},
   "outputs": [],
   "source": [
    "sum = 0\n",
    "for i in range(1,11):\n",
    "    sum = sum + i"
   ]
  },
  {
   "cell_type": "code",
   "execution_count": 18,
   "id": "7d95a7c6-3090-46ad-a467-c3630b0abe00",
   "metadata": {},
   "outputs": [
    {
     "data": {
      "text/plain": [
       "55"
      ]
     },
     "execution_count": 18,
     "metadata": {},
     "output_type": "execute_result"
    }
   ],
   "source": [
    "sum"
   ]
  },
  {
   "cell_type": "code",
   "execution_count": 10,
   "id": "7629df78-d6af-4f8f-b9e1-e91f830eec3f",
   "metadata": {},
   "outputs": [],
   "source": [
    "#sum of natural numbers"
   ]
  },
  {
   "cell_type": "code",
   "execution_count": 20,
   "id": "7d877461-9648-42fc-a034-3256fa35964e",
   "metadata": {},
   "outputs": [],
   "source": [
    "n = 15"
   ]
  },
  {
   "cell_type": "code",
   "execution_count": 22,
   "id": "f9a47eed-8686-483a-8dd6-1675bea889c5",
   "metadata": {},
   "outputs": [
    {
     "data": {
      "text/plain": [
       "120.0"
      ]
     },
     "execution_count": 22,
     "metadata": {},
     "output_type": "execute_result"
    }
   ],
   "source": []
  },
  {
   "cell_type": "code",
   "execution_count": 23,
   "id": "25fe353c-555d-4df8-9ddc-315d9db69be8",
   "metadata": {},
   "outputs": [],
   "source": [
    "#break, continue,pass"
   ]
  },
  {
   "cell_type": "markdown",
   "id": "be44fa4d-30ae-430f-86e8-8e84a93b251e",
   "metadata": {},
   "source": [
    "# break"
   ]
  },
  {
   "cell_type": "code",
   "execution_count": 3,
   "id": "06177bd8-65fe-40fc-893b-d3a6b39aaa98",
   "metadata": {},
   "outputs": [],
   "source": [
    "for i in range(1,5):\n",
    "    if i == 3:\n",
    "        break\n",
    "        print(i)"
   ]
  },
  {
   "cell_type": "code",
   "execution_count": 5,
   "id": "5ea2474b-63d3-4d89-a858-862f07833110",
   "metadata": {},
   "outputs": [],
   "source": [
    "for i in 'data science':\n",
    "    if i == 'c':\n",
    "        break\n",
    "        print(i)"
   ]
  },
  {
   "cell_type": "code",
   "execution_count": null,
   "id": "adf6e45d-90d6-458b-a642-5907bf20efa5",
   "metadata": {},
   "outputs": [],
   "source": []
  },
  {
   "cell_type": "code",
   "execution_count": null,
   "id": "916ea3d2-d8c6-42a6-9b1a-1408c2fc04a4",
   "metadata": {},
   "outputs": [],
   "source": []
  }
 ],
 "metadata": {
  "kernelspec": {
   "display_name": "Python 3 (ipykernel)",
   "language": "python",
   "name": "python3"
  },
  "language_info": {
   "codemirror_mode": {
    "name": "ipython",
    "version": 3
   },
   "file_extension": ".py",
   "mimetype": "text/x-python",
   "name": "python",
   "nbconvert_exporter": "python",
   "pygments_lexer": "ipython3",
   "version": "3.12.7"
  }
 },
 "nbformat": 4,
 "nbformat_minor": 5
}
