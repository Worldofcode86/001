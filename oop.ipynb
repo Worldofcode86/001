{
 "cells": [
  {
   "cell_type": "markdown",
   "id": "96a0f079-367c-4606-8149-bb740f1ec758",
   "metadata": {},
   "source": [
    "# oop(OBJECT ORIENTED PRROGGRAMING)\n"
   ]
  },
  {
   "cell_type": "code",
   "execution_count": 2,
   "id": "b5a08369-da16-443c-b6c8-4d40b2ba7720",
   "metadata": {},
   "outputs": [],
   "source": [
    "# WE WOLL CREATE BLUEPRINT OF OBJEECTS BY CREAATIN CLASSESS & ITS OBJECTS"
   ]
  },
  {
   "cell_type": "code",
   "execution_count": 12,
   "id": "9d7de99d-1707-4ea1-9c4c-7fa6227804de",
   "metadata": {},
   "outputs": [
    {
     "ename": "IndentationError",
     "evalue": "expected an indented block after function definition on line 2 (2268690114.py, line 3)",
     "output_type": "error",
     "traceback": [
      "\u001b[1;36m  Cell \u001b[1;32mIn[12], line 3\u001b[1;36m\u001b[0m\n\u001b[1;33m    self.engine=engine\u001b[0m\n\u001b[1;37m    ^\u001b[0m\n\u001b[1;31mIndentationError\u001b[0m\u001b[1;31m:\u001b[0m expected an indented block after function definition on line 2\n"
     ]
    }
   ],
   "source": [
    "class car ():\n",
    "    def __init__(slef,engine,model,colour):\n",
    "    self.engine=engine\n",
    "    self.type=model\n",
    "    self.colour=colour\n",
    "\n"
   ]
  },
  {
   "cell_type": "code",
   "execution_count": 13,
   "id": "1e5c8255-7145-4a0c-91cb-c7c46fc1277a",
   "metadata": {},
   "outputs": [
    {
     "ename": "NameError",
     "evalue": "name 'car' is not defined",
     "output_type": "error",
     "traceback": [
      "\u001b[1;31m---------------------------------------------------------------------------\u001b[0m",
      "\u001b[1;31mNameError\u001b[0m                                 Traceback (most recent call last)",
      "Cell \u001b[1;32mIn[13], line 1\u001b[0m\n\u001b[1;32m----> 1\u001b[0m nexon\u001b[38;5;241m=\u001b[39mcar(\u001b[38;5;241m5000\u001b[39m,\u001b[38;5;124m'\u001b[39m\u001b[38;5;124msuv\u001b[39m\u001b[38;5;124m'\u001b[39m,\u001b[38;5;124m'\u001b[39m\u001b[38;5;124mwwhitee\u001b[39m\u001b[38;5;124m'\u001b[39m)\n",
      "\u001b[1;31mNameError\u001b[0m: name 'car' is not defined"
     ]
    }
   ],
   "source": [
    "nexon=car(5000,'suv','wwhitee')\n"
   ]
  },
  {
   "cell_type": "markdown",
   "id": "b918a0ac-e1a5-43e9-9244-139bcdf2cb27",
   "metadata": {},
   "source": []
  },
  {
   "cell_type": "code",
   "execution_count": 19,
   "id": "2bb9f71b-570b-41dd-bd21-c2b166e04161",
   "metadata": {},
   "outputs": [],
   "source": [
    "class car ():\n",
    "    def __init__(self,engine,model,colour):\n",
    "        self.engine=engine\n",
    "        self.type=model\n",
    "        self.colour=colour\n",
    "       \n",
    "\n",
    " \n",
    "\n",
    "\n",
    "\n",
    "\n",
    "\n",
    "\n",
    "\n",
    "\n"
   ]
  },
  {
   "cell_type": "code",
   "execution_count": 16,
   "id": "14f3de38-6049-4572-bca9-545ef8058d24",
   "metadata": {},
   "outputs": [],
   "source": [
    "class test():\n",
    "    def __init__(self,a,b,c):\n",
    "        self.a =a\n",
    "        self.b = b\n",
    "        self.c = c"
   ]
  },
  {
   "cell_type": "code",
   "execution_count": 20,
   "id": "be4005d5-990c-4d9f-8b99-c7f5346202fd",
   "metadata": {},
   "outputs": [],
   "source": [
    "nexon=car(5000,'suv','wwhitee')\n"
   ]
  },
  {
   "cell_type": "code",
   "execution_count": 23,
   "id": "de51bd51-a3ed-4e71-afc2-52d6020da55a",
   "metadata": {},
   "outputs": [
    {
     "data": {
      "text/plain": [
       "'wwhitee'"
      ]
     },
     "execution_count": 23,
     "metadata": {},
     "output_type": "execute_result"
    }
   ],
   "source": [
    "nexon.colour"
   ]
  },
  {
   "cell_type": "code",
   "execution_count": 25,
   "id": "12ec5fe0-052d-460d-8d1b-40fbf6fb261c",
   "metadata": {},
   "outputs": [
    {
     "data": {
      "text/plain": [
       "'suv'"
      ]
     },
     "execution_count": 25,
     "metadata": {},
     "output_type": "execute_result"
    }
   ],
   "source": [
    "nexon.type"
   ]
  },
  {
   "cell_type": "code",
   "execution_count": 26,
   "id": "f01705db-cd76-404e-a718-54bb935ad670",
   "metadata": {},
   "outputs": [
    {
     "data": {
      "text/plain": [
       "5000"
      ]
     },
     "execution_count": 26,
     "metadata": {},
     "output_type": "execute_result"
    }
   ],
   "source": [
    "nexon.engine"
   ]
  },
  {
   "cell_type": "code",
   "execution_count": 28,
   "id": "35cd6f41-ef4d-4f70-a747-69a94cc307d2",
   "metadata": {},
   "outputs": [],
   "source": [
    "class house():\n",
    "    def __init__(self,area,no_flor,no_beds):\n",
    "        self.area=area\n",
    "        self.no_flor=no_flor\n",
    "        self.no_beds=no_beds"
   ]
  },
  {
   "cell_type": "code",
   "execution_count": 30,
   "id": "567c6277-70b5-4260-9a84-068ef6c7766d",
   "metadata": {},
   "outputs": [],
   "source": [
    "antelena=house(2000,4,6)"
   ]
  },
  {
   "cell_type": "code",
   "execution_count": 31,
   "id": "6b8b2d62-7585-49e3-9ce9-ee88205582b8",
   "metadata": {},
   "outputs": [
    {
     "data": {
      "text/plain": [
       "2000"
      ]
     },
     "execution_count": 31,
     "metadata": {},
     "output_type": "execute_result"
    }
   ],
   "source": [
    "antelena.area"
   ]
  },
  {
   "cell_type": "code",
   "execution_count": 33,
   "id": "9ef1b526-42cd-482f-84b4-22091df50f21",
   "metadata": {},
   "outputs": [
    {
     "data": {
      "text/plain": [
       "4"
      ]
     },
     "execution_count": 33,
     "metadata": {},
     "output_type": "execute_result"
    }
   ],
   "source": [
    "antelena.no_flor"
   ]
  },
  {
   "cell_type": "code",
   "execution_count": 34,
   "id": "7f0c1dab-5d75-4bbb-8946-e88dad1b403b",
   "metadata": {},
   "outputs": [
    {
     "data": {
      "text/plain": [
       "6"
      ]
     },
     "execution_count": 34,
     "metadata": {},
     "output_type": "execute_result"
    }
   ],
   "source": [
    "antelena.no_beds"
   ]
  },
  {
   "cell_type": "code",
   "execution_count": null,
   "id": "bbd53806-ccd5-4403-9f92-532938a152a0",
   "metadata": {},
   "outputs": [],
   "source": []
  }
 ],
 "metadata": {
  "kernelspec": {
   "display_name": "Python 3 (ipykernel)",
   "language": "python",
   "name": "python3"
  },
  "language_info": {
   "codemirror_mode": {
    "name": "ipython",
    "version": 3
   },
   "file_extension": ".py",
   "mimetype": "text/x-python",
   "name": "python",
   "nbconvert_exporter": "python",
   "pygments_lexer": "ipython3",
   "version": "3.12.7"
  }
 },
 "nbformat": 4,
 "nbformat_minor": 5
}
