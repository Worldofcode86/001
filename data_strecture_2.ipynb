{
 "cells": [
  {
   "cell_type": "code",
   "execution_count": 1,
   "id": "255e1754-0c38-46cc-8430-063b04d02f7d",
   "metadata": {},
   "outputs": [],
   "source": [
    "x = [1,2,3,4,5,6,7,8]"
   ]
  },
  {
   "cell_type": "code",
   "execution_count": 2,
   "id": "435643e8-f18d-4c57-af1f-b90d3c41dc6a",
   "metadata": {},
   "outputs": [
    {
     "data": {
      "text/plain": [
       "[1, 2, 3, 4, 5, 6, 7, 8]"
      ]
     },
     "execution_count": 2,
     "metadata": {},
     "output_type": "execute_result"
    }
   ],
   "source": [
    "x"
   ]
  },
  {
   "cell_type": "code",
   "execution_count": 3,
   "id": "25827540-2696-41ba-8440-125d0ab959c1",
   "metadata": {},
   "outputs": [
    {
     "data": {
      "text/plain": [
       "[1, 2, 3]"
      ]
     },
     "execution_count": 3,
     "metadata": {},
     "output_type": "execute_result"
    }
   ],
   "source": [
    "x[0:3]"
   ]
  },
  {
   "cell_type": "code",
   "execution_count": 6,
   "id": "ad88ff5d-cc8b-4d87-b399-83ec2f5d65c6",
   "metadata": {},
   "outputs": [
    {
     "data": {
      "text/plain": [
       "[1, 2, 3, 4, 5, 6, 7, 8]"
      ]
     },
     "execution_count": 6,
     "metadata": {},
     "output_type": "execute_result"
    }
   ],
   "source": [
    "x[::1]"
   ]
  },
  {
   "cell_type": "code",
   "execution_count": 7,
   "id": "91211f3a-a378-4327-8bf0-9a788824b811",
   "metadata": {},
   "outputs": [
    {
     "data": {
      "text/plain": [
       "[1, 3, 5, 7]"
      ]
     },
     "execution_count": 7,
     "metadata": {},
     "output_type": "execute_result"
    }
   ],
   "source": [
    "x[::2]"
   ]
  },
  {
   "cell_type": "code",
   "execution_count": 8,
   "id": "e263822f-1d74-42e3-9ae3-914a8c6287db",
   "metadata": {},
   "outputs": [
    {
     "data": {
      "text/plain": [
       "[1, 4, 7]"
      ]
     },
     "execution_count": 8,
     "metadata": {},
     "output_type": "execute_result"
    }
   ],
   "source": [
    "x[::3]"
   ]
  },
  {
   "cell_type": "code",
   "execution_count": 9,
   "id": "505a1f2e-ebc5-45c3-bfd0-08aaee932560",
   "metadata": {},
   "outputs": [
    {
     "data": {
      "text/plain": [
       "[8]"
      ]
     },
     "execution_count": 9,
     "metadata": {},
     "output_type": "execute_result"
    }
   ],
   "source": [
    "x[-1::]"
   ]
  },
  {
   "cell_type": "code",
   "execution_count": 10,
   "id": "e5610645-28d3-4693-b2fa-2ca1e83c93a9",
   "metadata": {},
   "outputs": [
    {
     "data": {
      "text/plain": [
       "[8, 7, 6, 5, 4, 3, 2, 1]"
      ]
     },
     "execution_count": 10,
     "metadata": {},
     "output_type": "execute_result"
    }
   ],
   "source": [
    "x[-1::-1]"
   ]
  },
  {
   "cell_type": "code",
   "execution_count": 11,
   "id": "7f553079-fcef-427a-b9d2-fc88c394b946",
   "metadata": {},
   "outputs": [],
   "source": [
    "names = ['Vaibhav', 'Om', 'Sham', 'Ram', 'Rock']"
   ]
  },
  {
   "cell_type": "code",
   "execution_count": 12,
   "id": "1cdc6104-e2d2-4d22-8714-3b3145e07328",
   "metadata": {},
   "outputs": [
    {
     "data": {
      "text/plain": [
       "['Rock', 'Ram', 'Sham', 'Om', 'Vaibhav']"
      ]
     },
     "execution_count": 12,
     "metadata": {},
     "output_type": "execute_result"
    }
   ],
   "source": [
    "names[-1::-1]"
   ]
  },
  {
   "cell_type": "code",
   "execution_count": 15,
   "id": "01be87de-da68-41be-a721-c85232939eee",
   "metadata": {},
   "outputs": [
    {
     "data": {
      "text/plain": [
       "[8, 6, 4, 2]"
      ]
     },
     "execution_count": 15,
     "metadata": {},
     "output_type": "execute_result"
    }
   ],
   "source": [
    "x[-1::-2]"
   ]
  },
  {
   "cell_type": "code",
   "execution_count": 17,
   "id": "7566f08f-a6ec-438b-b437-ba2bff48ce39",
   "metadata": {},
   "outputs": [
    {
     "data": {
      "text/plain": [
       "[8, 7, 6, 5, 4, 3, 2, 1]"
      ]
     },
     "execution_count": 17,
     "metadata": {},
     "output_type": "execute_result"
    }
   ],
   "source": [
    "x[::-1]"
   ]
  },
  {
   "cell_type": "code",
   "execution_count": 19,
   "id": "911f0457-794f-46c9-86d4-77e567ca368e",
   "metadata": {},
   "outputs": [
    {
     "data": {
      "text/plain": [
       "['Rock', 'Ram', 'Sham', 'Om', 'Vaibhav']"
      ]
     },
     "execution_count": 19,
     "metadata": {},
     "output_type": "execute_result"
    }
   ],
   "source": [
    "names[::-1]"
   ]
  },
  {
   "cell_type": "code",
   "execution_count": 20,
   "id": "e3cc92e8-0611-4ef6-9c2d-d95ed174474f",
   "metadata": {},
   "outputs": [
    {
     "data": {
      "text/plain": [
       "['Vaibhav', 'Om', 'Sham', 'Ram', 'Rock']"
      ]
     },
     "execution_count": 20,
     "metadata": {},
     "output_type": "execute_result"
    }
   ],
   "source": [
    "names"
   ]
  },
  {
   "cell_type": "code",
   "execution_count": 21,
   "id": "ac6eae27-0759-4700-a021-8ef8977d9d9e",
   "metadata": {},
   "outputs": [
    {
     "data": {
      "text/plain": [
       "'Vaibhav'"
      ]
     },
     "execution_count": 21,
     "metadata": {},
     "output_type": "execute_result"
    }
   ],
   "source": [
    "names[0]"
   ]
  },
  {
   "cell_type": "code",
   "execution_count": 22,
   "id": "ae7328ff-43fb-42cf-b06a-2f09209061a7",
   "metadata": {},
   "outputs": [],
   "source": [
    "names[0] = 'X'"
   ]
  },
  {
   "cell_type": "code",
   "execution_count": 23,
   "id": "19509371-3501-4c61-a051-d73a4b6896a4",
   "metadata": {},
   "outputs": [
    {
     "data": {
      "text/plain": [
       "['X', 'Om', 'Sham', 'Ram', 'Rock']"
      ]
     },
     "execution_count": 23,
     "metadata": {},
     "output_type": "execute_result"
    }
   ],
   "source": [
    "names"
   ]
  },
  {
   "cell_type": "code",
   "execution_count": 24,
   "id": "cb4c7ff1-af71-48ee-b9b8-c3c69feb754f",
   "metadata": {},
   "outputs": [
    {
     "data": {
      "text/plain": [
       "[1, 2, 3, 4, 5, 6, 7, 8]"
      ]
     },
     "execution_count": 24,
     "metadata": {},
     "output_type": "execute_result"
    }
   ],
   "source": [
    "x"
   ]
  },
  {
   "cell_type": "code",
   "execution_count": 25,
   "id": "9c569213-3fcb-4b5a-8758-b4e57b54f13e",
   "metadata": {},
   "outputs": [],
   "source": [
    "x[1] = 200"
   ]
  },
  {
   "cell_type": "code",
   "execution_count": null,
   "id": "2bcafa9e-eb5a-4149-8482-0dc65e85c13c",
   "metadata": {},
   "outputs": [],
   "source": [
    "# List is Mutable/Changeble"
   ]
  },
  {
   "cell_type": "code",
   "execution_count": 26,
   "id": "1bd4532b-5f96-46db-ac77-8ad0061e365d",
   "metadata": {},
   "outputs": [
    {
     "data": {
      "text/plain": [
       "[1, 200, 3, 4, 5, 6, 7, 8]"
      ]
     },
     "execution_count": 26,
     "metadata": {},
     "output_type": "execute_result"
    }
   ],
   "source": [
    "x"
   ]
  },
  {
   "cell_type": "code",
   "execution_count": 27,
   "id": "46d00e41-fab3-4381-8fa2-f37e2f7ffeb7",
   "metadata": {},
   "outputs": [],
   "source": [
    "# Nested List"
   ]
  },
  {
   "cell_type": "code",
   "execution_count": 28,
   "id": "d90b13a6-96b5-49c0-960a-f06a955bdf8d",
   "metadata": {},
   "outputs": [],
   "source": [
    "a = [1,2,3,4,[10,20,30],5,6]"
   ]
  },
  {
   "cell_type": "code",
   "execution_count": 29,
   "id": "17d07232-5ccf-45d4-94f3-64d176b29f7b",
   "metadata": {},
   "outputs": [
    {
     "data": {
      "text/plain": [
       "[1, 2, 3, 4, [10, 20, 30], 5, 6]"
      ]
     },
     "execution_count": 29,
     "metadata": {},
     "output_type": "execute_result"
    }
   ],
   "source": [
    "a"
   ]
  },
  {
   "cell_type": "code",
   "execution_count": 30,
   "id": "e123bd6a-c32a-4e1d-aa66-bac7e36f6efc",
   "metadata": {},
   "outputs": [
    {
     "data": {
      "text/plain": [
       "1"
      ]
     },
     "execution_count": 30,
     "metadata": {},
     "output_type": "execute_result"
    }
   ],
   "source": [
    "a[0]"
   ]
  },
  {
   "cell_type": "code",
   "execution_count": 31,
   "id": "42df9008-9cb4-405b-9db3-63e9d31094bf",
   "metadata": {},
   "outputs": [
    {
     "data": {
      "text/plain": [
       "2"
      ]
     },
     "execution_count": 31,
     "metadata": {},
     "output_type": "execute_result"
    }
   ],
   "source": [
    "a[1]"
   ]
  },
  {
   "cell_type": "code",
   "execution_count": 32,
   "id": "6e54c2b8-6b44-4a8b-9d1b-ed49b0f18986",
   "metadata": {},
   "outputs": [
    {
     "data": {
      "text/plain": [
       "3"
      ]
     },
     "execution_count": 32,
     "metadata": {},
     "output_type": "execute_result"
    }
   ],
   "source": [
    "a[2]"
   ]
  },
  {
   "cell_type": "code",
   "execution_count": 33,
   "id": "dac1060f-b083-4db7-b362-46b5439e3106",
   "metadata": {},
   "outputs": [
    {
     "data": {
      "text/plain": [
       "4"
      ]
     },
     "execution_count": 33,
     "metadata": {},
     "output_type": "execute_result"
    }
   ],
   "source": [
    "a[3]"
   ]
  },
  {
   "cell_type": "code",
   "execution_count": 34,
   "id": "2c7863b4-c1a0-439e-a154-4a69e6cd4699",
   "metadata": {},
   "outputs": [
    {
     "data": {
      "text/plain": [
       "[10, 20, 30]"
      ]
     },
     "execution_count": 34,
     "metadata": {},
     "output_type": "execute_result"
    }
   ],
   "source": [
    "a[4]"
   ]
  },
  {
   "cell_type": "code",
   "execution_count": 35,
   "id": "4a7f0a43-2f24-4d82-a47b-882f676de677",
   "metadata": {},
   "outputs": [
    {
     "data": {
      "text/plain": [
       "20"
      ]
     },
     "execution_count": 35,
     "metadata": {},
     "output_type": "execute_result"
    }
   ],
   "source": [
    "a[4][1]"
   ]
  },
  {
   "cell_type": "code",
   "execution_count": null,
   "id": "574243c3-5cb8-43bc-a51a-76622d48c9ad",
   "metadata": {},
   "outputs": [],
   "source": []
  },
  {
   "cell_type": "code",
   "execution_count": 36,
   "id": "7cecd87c-4524-4299-af18-a69e876e1084",
   "metadata": {},
   "outputs": [],
   "source": [
    "# Functions related to list data strecture"
   ]
  },
  {
   "cell_type": "code",
   "execution_count": 38,
   "id": "971af7f4-2675-4f0f-8aeb-52e9ace0a2e1",
   "metadata": {},
   "outputs": [],
   "source": [
    "x.append(100)"
   ]
  },
  {
   "cell_type": "code",
   "execution_count": 39,
   "id": "5ad31e2f-a7a0-4720-968f-9377caa1eb93",
   "metadata": {},
   "outputs": [
    {
     "data": {
      "text/plain": [
       "[1, 200, 3, 4, 5, 6, 7, 8, 100]"
      ]
     },
     "execution_count": 39,
     "metadata": {},
     "output_type": "execute_result"
    }
   ],
   "source": [
    "x"
   ]
  },
  {
   "cell_type": "code",
   "execution_count": 40,
   "id": "a1d53df1-ec58-4b4d-819d-253d27b238ba",
   "metadata": {},
   "outputs": [],
   "source": [
    "x.append([10,20,30])"
   ]
  },
  {
   "cell_type": "code",
   "execution_count": 41,
   "id": "629ec1ea-de3d-4c44-8f45-c0f86dab6ae4",
   "metadata": {},
   "outputs": [
    {
     "data": {
      "text/plain": [
       "[1, 200, 3, 4, 5, 6, 7, 8, 100, [10, 20, 30]]"
      ]
     },
     "execution_count": 41,
     "metadata": {},
     "output_type": "execute_result"
    }
   ],
   "source": [
    "x"
   ]
  },
  {
   "cell_type": "code",
   "execution_count": 42,
   "id": "0b70a912-ab77-4697-8fee-06c43c82a8d5",
   "metadata": {},
   "outputs": [],
   "source": [
    "x.extend([10,20,30])"
   ]
  },
  {
   "cell_type": "code",
   "execution_count": 43,
   "id": "d32e7a7b-b97c-416b-af84-fea2656785c0",
   "metadata": {},
   "outputs": [
    {
     "data": {
      "text/plain": [
       "[1, 200, 3, 4, 5, 6, 7, 8, 100, [10, 20, 30], 10, 20, 30]"
      ]
     },
     "execution_count": 43,
     "metadata": {},
     "output_type": "execute_result"
    }
   ],
   "source": [
    "x"
   ]
  },
  {
   "cell_type": "code",
   "execution_count": 44,
   "id": "c4aba8b7-8ea8-486c-b1ca-992f3e2befd5",
   "metadata": {},
   "outputs": [],
   "source": [
    "# Diff b/w Append and Extend"
   ]
  },
  {
   "cell_type": "code",
   "execution_count": 45,
   "id": "7964202a-0011-4236-9a67-d56aa8f6ac84",
   "metadata": {},
   "outputs": [],
   "source": [
    "s = [1,1,1,2,3,4,4,5]"
   ]
  },
  {
   "cell_type": "code",
   "execution_count": 46,
   "id": "d8dcf6f1-806b-48cb-9655-f680e84cb186",
   "metadata": {},
   "outputs": [
    {
     "data": {
      "text/plain": [
       "3"
      ]
     },
     "execution_count": 46,
     "metadata": {},
     "output_type": "execute_result"
    }
   ],
   "source": [
    "s.count(1)"
   ]
  },
  {
   "cell_type": "code",
   "execution_count": 48,
   "id": "02b8f540-a3ce-4a7f-a252-3f9fe877b004",
   "metadata": {},
   "outputs": [
    {
     "data": {
      "text/plain": [
       "2"
      ]
     },
     "execution_count": 48,
     "metadata": {},
     "output_type": "execute_result"
    }
   ],
   "source": [
    "s.count(4)"
   ]
  },
  {
   "cell_type": "code",
   "execution_count": 49,
   "id": "195f2b82-a0ef-4fa5-9eda-8179529fa6bb",
   "metadata": {},
   "outputs": [
    {
     "data": {
      "text/plain": [
       "1"
      ]
     },
     "execution_count": 49,
     "metadata": {},
     "output_type": "execute_result"
    }
   ],
   "source": [
    "s.count(5)"
   ]
  },
  {
   "cell_type": "code",
   "execution_count": 50,
   "id": "149a9bb3-b5bb-46fe-baac-780517725689",
   "metadata": {},
   "outputs": [
    {
     "data": {
      "text/plain": [
       "[1, 200, 3, 4, 5, 6, 7, 8, 100, [10, 20, 30], 10, 20, 30]"
      ]
     },
     "execution_count": 50,
     "metadata": {},
     "output_type": "execute_result"
    }
   ],
   "source": [
    "x"
   ]
  },
  {
   "cell_type": "code",
   "execution_count": 51,
   "id": "690498b8-596b-48ba-bd98-b94b6aa04c50",
   "metadata": {},
   "outputs": [],
   "source": [
    "x.insert(3, 1230)"
   ]
  },
  {
   "cell_type": "code",
   "execution_count": 52,
   "id": "0a4a8dcd-3b4d-4391-8b89-13c48834b681",
   "metadata": {},
   "outputs": [
    {
     "data": {
      "text/plain": [
       "[1, 200, 3, 1230, 4, 5, 6, 7, 8, 100, [10, 20, 30], 10, 20, 30]"
      ]
     },
     "execution_count": 52,
     "metadata": {},
     "output_type": "execute_result"
    }
   ],
   "source": [
    "x"
   ]
  },
  {
   "cell_type": "code",
   "execution_count": 53,
   "id": "12f48763-f6ee-4016-b98e-ab0d38b6bf69",
   "metadata": {},
   "outputs": [],
   "source": [
    "x.insert(0, 987)"
   ]
  },
  {
   "cell_type": "code",
   "execution_count": 54,
   "id": "40284db9-81a2-4f3d-95e4-1838248f5ce8",
   "metadata": {},
   "outputs": [
    {
     "data": {
      "text/plain": [
       "[987, 1, 200, 3, 1230, 4, 5, 6, 7, 8, 100, [10, 20, 30], 10, 20, 30]"
      ]
     },
     "execution_count": 54,
     "metadata": {},
     "output_type": "execute_result"
    }
   ],
   "source": [
    "x"
   ]
  },
  {
   "cell_type": "code",
   "execution_count": 55,
   "id": "770cbcb8-402e-4f54-889c-8087f030c3c2",
   "metadata": {},
   "outputs": [
    {
     "data": {
      "text/plain": [
       "14"
      ]
     },
     "execution_count": 55,
     "metadata": {},
     "output_type": "execute_result"
    }
   ],
   "source": [
    "x.index(30)"
   ]
  },
  {
   "cell_type": "code",
   "execution_count": 56,
   "id": "0bb96ae4-bbd5-4c86-914a-20217651d439",
   "metadata": {},
   "outputs": [
    {
     "data": {
      "text/plain": [
       "10"
      ]
     },
     "execution_count": 56,
     "metadata": {},
     "output_type": "execute_result"
    }
   ],
   "source": [
    "x.index(100)"
   ]
  },
  {
   "cell_type": "code",
   "execution_count": 57,
   "id": "627c326a-9ac5-4950-a7b2-587210571c05",
   "metadata": {},
   "outputs": [
    {
     "data": {
      "text/plain": [
       "[1, 1, 1, 2, 3, 4, 4, 5]"
      ]
     },
     "execution_count": 57,
     "metadata": {},
     "output_type": "execute_result"
    }
   ],
   "source": [
    "s"
   ]
  },
  {
   "cell_type": "code",
   "execution_count": 58,
   "id": "7e28754f-093c-4c26-ac3f-2a2f3f375147",
   "metadata": {},
   "outputs": [
    {
     "data": {
      "text/plain": [
       "0"
      ]
     },
     "execution_count": 58,
     "metadata": {},
     "output_type": "execute_result"
    }
   ],
   "source": [
    "s.index(1) # Nearest"
   ]
  },
  {
   "cell_type": "code",
   "execution_count": 59,
   "id": "7e7271b1-7e1c-4c70-86f9-6d41199afaff",
   "metadata": {},
   "outputs": [],
   "source": [
    "s.remove(1)"
   ]
  },
  {
   "cell_type": "code",
   "execution_count": 60,
   "id": "89403740-6a9c-4f5e-9d23-640cfe225cd4",
   "metadata": {},
   "outputs": [
    {
     "data": {
      "text/plain": [
       "[1, 1, 2, 3, 4, 4, 5]"
      ]
     },
     "execution_count": 60,
     "metadata": {},
     "output_type": "execute_result"
    }
   ],
   "source": [
    "s"
   ]
  },
  {
   "cell_type": "code",
   "execution_count": 61,
   "id": "e45789af-160e-4dce-960e-153da6b260f5",
   "metadata": {},
   "outputs": [],
   "source": [
    "s.remove(4)"
   ]
  },
  {
   "cell_type": "code",
   "execution_count": 62,
   "id": "b8a2d0d2-d34b-456e-9a5a-df97c47302c2",
   "metadata": {},
   "outputs": [
    {
     "data": {
      "text/plain": [
       "[1, 1, 2, 3, 4, 5]"
      ]
     },
     "execution_count": 62,
     "metadata": {},
     "output_type": "execute_result"
    }
   ],
   "source": [
    "s"
   ]
  },
  {
   "cell_type": "code",
   "execution_count": 63,
   "id": "d672a5b6-2eb1-4d50-856e-953faf70d14e",
   "metadata": {},
   "outputs": [
    {
     "data": {
      "text/plain": [
       "['X', 'Om', 'Sham', 'Ram', 'Rock']"
      ]
     },
     "execution_count": 63,
     "metadata": {},
     "output_type": "execute_result"
    }
   ],
   "source": [
    "names"
   ]
  },
  {
   "cell_type": "code",
   "execution_count": 64,
   "id": "598d70ab-96c9-48bc-bcf2-dbac7a93c430",
   "metadata": {},
   "outputs": [],
   "source": [
    "names.remove('Sham')"
   ]
  },
  {
   "cell_type": "code",
   "execution_count": 65,
   "id": "3b604784-f393-432f-b905-d99b591c21e5",
   "metadata": {},
   "outputs": [
    {
     "data": {
      "text/plain": [
       "['X', 'Om', 'Ram', 'Rock']"
      ]
     },
     "execution_count": 65,
     "metadata": {},
     "output_type": "execute_result"
    }
   ],
   "source": [
    "names"
   ]
  },
  {
   "cell_type": "code",
   "execution_count": 66,
   "id": "f892d41e-c681-4ddc-b833-13ba3397480a",
   "metadata": {},
   "outputs": [
    {
     "data": {
      "text/plain": [
       "'Rock'"
      ]
     },
     "execution_count": 66,
     "metadata": {},
     "output_type": "execute_result"
    }
   ],
   "source": [
    "names.pop()"
   ]
  },
  {
   "cell_type": "code",
   "execution_count": 67,
   "id": "79a4c81a-372f-474b-b17b-7edac45d0dfc",
   "metadata": {},
   "outputs": [
    {
     "data": {
      "text/plain": [
       "['X', 'Om', 'Ram']"
      ]
     },
     "execution_count": 67,
     "metadata": {},
     "output_type": "execute_result"
    }
   ],
   "source": [
    "names"
   ]
  },
  {
   "cell_type": "code",
   "execution_count": 68,
   "id": "03332f88-4c24-4a19-ac68-9224cc6b341b",
   "metadata": {},
   "outputs": [
    {
     "data": {
      "text/plain": [
       "[987, 1, 200, 3, 1230, 4, 5, 6, 7, 8, 100, [10, 20, 30], 10, 20, 30]"
      ]
     },
     "execution_count": 68,
     "metadata": {},
     "output_type": "execute_result"
    }
   ],
   "source": [
    "x"
   ]
  },
  {
   "cell_type": "code",
   "execution_count": 69,
   "id": "75db2226-235d-4075-bc75-9cded9e92731",
   "metadata": {},
   "outputs": [
    {
     "data": {
      "text/plain": [
       "30"
      ]
     },
     "execution_count": 69,
     "metadata": {},
     "output_type": "execute_result"
    }
   ],
   "source": [
    "x.pop()"
   ]
  },
  {
   "cell_type": "code",
   "execution_count": 70,
   "id": "b5f2f3ca-4d17-4d42-9b6e-f0dd1073fdfc",
   "metadata": {},
   "outputs": [
    {
     "data": {
      "text/plain": [
       "[987, 1, 200, 3, 1230, 4, 5, 6, 7, 8, 100, [10, 20, 30], 10, 20]"
      ]
     },
     "execution_count": 70,
     "metadata": {},
     "output_type": "execute_result"
    }
   ],
   "source": [
    "x"
   ]
  },
  {
   "cell_type": "code",
   "execution_count": 71,
   "id": "c15531e9-2ecf-450d-9349-d4af56af716e",
   "metadata": {},
   "outputs": [],
   "source": [
    "# Diff b/w remove and pop ?"
   ]
  },
  {
   "cell_type": "code",
   "execution_count": 72,
   "id": "d8741160-7d8b-439d-b2b4-68b32e61849a",
   "metadata": {},
   "outputs": [],
   "source": [
    "x.reverse()"
   ]
  },
  {
   "cell_type": "code",
   "execution_count": 73,
   "id": "12c67450-5133-44d9-979f-f3c9b7c91bb4",
   "metadata": {},
   "outputs": [
    {
     "data": {
      "text/plain": [
       "[20, 10, [10, 20, 30], 100, 8, 7, 6, 5, 4, 1230, 3, 200, 1, 987]"
      ]
     },
     "execution_count": 73,
     "metadata": {},
     "output_type": "execute_result"
    }
   ],
   "source": [
    "x"
   ]
  },
  {
   "cell_type": "code",
   "execution_count": 76,
   "id": "459406f6-9786-4bcc-816f-8715d93503c7",
   "metadata": {},
   "outputs": [],
   "source": [
    "s.sort()"
   ]
  },
  {
   "cell_type": "code",
   "execution_count": 77,
   "id": "a9fa26bd-b45e-4c23-823a-5eb5ced22e9c",
   "metadata": {},
   "outputs": [
    {
     "data": {
      "text/plain": [
       "[1, 1, 2, 3, 4, 5]"
      ]
     },
     "execution_count": 77,
     "metadata": {},
     "output_type": "execute_result"
    }
   ],
   "source": [
    "s"
   ]
  },
  {
   "cell_type": "code",
   "execution_count": 78,
   "id": "89ad4247-7bd5-4082-825e-1b5fed12f042",
   "metadata": {},
   "outputs": [],
   "source": [
    "f = [5,3,8,6]"
   ]
  },
  {
   "cell_type": "code",
   "execution_count": 79,
   "id": "b440d736-d8ff-4779-ad90-1e86c8517c22",
   "metadata": {},
   "outputs": [],
   "source": [
    "f.sort()"
   ]
  },
  {
   "cell_type": "code",
   "execution_count": 80,
   "id": "9788d7a1-89d4-4e74-ae0a-98171e77c374",
   "metadata": {},
   "outputs": [
    {
     "data": {
      "text/plain": [
       "[3, 5, 6, 8]"
      ]
     },
     "execution_count": 80,
     "metadata": {},
     "output_type": "execute_result"
    }
   ],
   "source": [
    "f"
   ]
  },
  {
   "cell_type": "markdown",
   "id": "c8d8b96d-ef23-4734-b4c6-229f0fe2e60d",
   "metadata": {},
   "source": [
    "# Tuple"
   ]
  },
  {
   "cell_type": "raw",
   "id": "0342226e-b751-402e-b1f7-d22df170d2dc",
   "metadata": {},
   "source": [
    "Tuple is written paranthesis ( )\n",
    "Tuple is immutable/Unchangeble"
   ]
  },
  {
   "cell_type": "code",
   "execution_count": 89,
   "id": "1a8ee7cc-401f-45ea-971f-84ed668b49f5",
   "metadata": {},
   "outputs": [],
   "source": [
    "r = (1,2,3,4,5,5,6)"
   ]
  },
  {
   "cell_type": "code",
   "execution_count": 82,
   "id": "2b2719b6-1feb-477b-83eb-03c06d5ecaf3",
   "metadata": {},
   "outputs": [
    {
     "data": {
      "text/plain": [
       "(1, 2, 3, 4, 5, 5, 6)"
      ]
     },
     "execution_count": 82,
     "metadata": {},
     "output_type": "execute_result"
    }
   ],
   "source": [
    "r"
   ]
  },
  {
   "cell_type": "code",
   "execution_count": 83,
   "id": "794b33b4-2509-4496-9a0a-54a280040a0a",
   "metadata": {},
   "outputs": [
    {
     "data": {
      "text/plain": [
       "tuple"
      ]
     },
     "execution_count": 83,
     "metadata": {},
     "output_type": "execute_result"
    }
   ],
   "source": [
    "type(r)"
   ]
  },
  {
   "cell_type": "code",
   "execution_count": 84,
   "id": "c639194c-c206-40eb-9fae-8beea7da6ad8",
   "metadata": {},
   "outputs": [
    {
     "data": {
      "text/plain": [
       "1"
      ]
     },
     "execution_count": 84,
     "metadata": {},
     "output_type": "execute_result"
    }
   ],
   "source": [
    "r[0]"
   ]
  },
  {
   "cell_type": "code",
   "execution_count": 85,
   "id": "311a9410-ee9f-49ca-afaf-579203bb44d6",
   "metadata": {},
   "outputs": [
    {
     "data": {
      "text/plain": [
       "3"
      ]
     },
     "execution_count": 85,
     "metadata": {},
     "output_type": "execute_result"
    }
   ],
   "source": [
    "r[2]"
   ]
  },
  {
   "cell_type": "code",
   "execution_count": 86,
   "id": "50bc5729-304c-4a3a-8fe1-daa1b8c2a27f",
   "metadata": {},
   "outputs": [
    {
     "data": {
      "text/plain": [
       "6"
      ]
     },
     "execution_count": 86,
     "metadata": {},
     "output_type": "execute_result"
    }
   ],
   "source": [
    "r[-1]"
   ]
  },
  {
   "cell_type": "code",
   "execution_count": 87,
   "id": "65211176-15c3-41c2-a1c4-9137d8d18ba5",
   "metadata": {},
   "outputs": [
    {
     "data": {
      "text/plain": [
       "(3, 4, 5, 5, 6)"
      ]
     },
     "execution_count": 87,
     "metadata": {},
     "output_type": "execute_result"
    }
   ],
   "source": [
    "r[2:]"
   ]
  },
  {
   "cell_type": "code",
   "execution_count": 88,
   "id": "6f3304c2-55b4-4faa-a767-43b0abe6a313",
   "metadata": {},
   "outputs": [
    {
     "ename": "SyntaxError",
     "evalue": "leading zeros in decimal integer literals are not permitted; use an 0o prefix for octal integers (3994890337.py, line 1)",
     "output_type": "error",
     "traceback": [
      "\u001b[1;36m  Cell \u001b[1;32mIn[88], line 1\u001b[1;36m\u001b[0m\n\u001b[1;33m    r[1] = 0483\u001b[0m\n\u001b[1;37m           ^\u001b[0m\n\u001b[1;31mSyntaxError\u001b[0m\u001b[1;31m:\u001b[0m leading zeros in decimal integer literals are not permitted; use an 0o prefix for octal integers\n"
     ]
    }
   ],
   "source": [
    "r[1] = 0483"
   ]
  },
  {
   "cell_type": "code",
   "execution_count": 90,
   "id": "a9b31228-740d-4bf4-aff4-9508195757ea",
   "metadata": {},
   "outputs": [],
   "source": [
    "s = (8,2,6,'Hello', True)"
   ]
  },
  {
   "cell_type": "code",
   "execution_count": 91,
   "id": "6217afa4-b332-4346-b4bb-344e5fc2cdaf",
   "metadata": {},
   "outputs": [
    {
     "data": {
      "text/plain": [
       "(8, 2, 6, 'Hello', True)"
      ]
     },
     "execution_count": 91,
     "metadata": {},
     "output_type": "execute_result"
    }
   ],
   "source": [
    "s"
   ]
  },
  {
   "cell_type": "code",
   "execution_count": 92,
   "id": "4357c45b-65c2-4c1f-a91a-071a67942902",
   "metadata": {},
   "outputs": [
    {
     "data": {
      "text/plain": [
       "[3, 5, 6, 8]"
      ]
     },
     "execution_count": 92,
     "metadata": {},
     "output_type": "execute_result"
    }
   ],
   "source": [
    "f"
   ]
  },
  {
   "cell_type": "code",
   "execution_count": 93,
   "id": "d9bace8c-7c77-4a90-a618-af5f86a00ecf",
   "metadata": {},
   "outputs": [
    {
     "data": {
      "text/plain": [
       "list"
      ]
     },
     "execution_count": 93,
     "metadata": {},
     "output_type": "execute_result"
    }
   ],
   "source": [
    "type(f)"
   ]
  },
  {
   "cell_type": "code",
   "execution_count": 95,
   "id": "c3829699-ef02-434f-9a97-7ccb01baa445",
   "metadata": {},
   "outputs": [],
   "source": [
    "f1 = tuple(f)"
   ]
  },
  {
   "cell_type": "code",
   "execution_count": 96,
   "id": "759551ca-244d-460a-a18a-fde84063a46f",
   "metadata": {},
   "outputs": [
    {
     "data": {
      "text/plain": [
       "(3, 5, 6, 8)"
      ]
     },
     "execution_count": 96,
     "metadata": {},
     "output_type": "execute_result"
    }
   ],
   "source": [
    "f1"
   ]
  },
  {
   "cell_type": "code",
   "execution_count": 97,
   "id": "5473dfe8-99c0-4b4f-8779-32de7eadfef0",
   "metadata": {},
   "outputs": [
    {
     "data": {
      "text/plain": [
       "[3, 5, 6, 8]"
      ]
     },
     "execution_count": 97,
     "metadata": {},
     "output_type": "execute_result"
    }
   ],
   "source": [
    "f"
   ]
  },
  {
   "cell_type": "code",
   "execution_count": 98,
   "id": "c22bc5c2-25dd-47da-b3f4-1affdb5e5cc3",
   "metadata": {},
   "outputs": [
    {
     "data": {
      "text/plain": [
       "(8, 2, 6, 'Hello', True)"
      ]
     },
     "execution_count": 98,
     "metadata": {},
     "output_type": "execute_result"
    }
   ],
   "source": [
    "s"
   ]
  },
  {
   "cell_type": "code",
   "execution_count": 99,
   "id": "23332916-4f19-4ea8-a297-93add658d7ef",
   "metadata": {},
   "outputs": [],
   "source": [
    "s1 = list(s)"
   ]
  },
  {
   "cell_type": "code",
   "execution_count": 101,
   "id": "9c62b0c5-2680-483b-bc68-502d4caead67",
   "metadata": {},
   "outputs": [
    {
     "data": {
      "text/plain": [
       "(8, 2, 6, 'Hello', True)"
      ]
     },
     "execution_count": 101,
     "metadata": {},
     "output_type": "execute_result"
    }
   ],
   "source": [
    "s"
   ]
  },
  {
   "cell_type": "code",
   "execution_count": 102,
   "id": "3b5f58d2-588b-47bd-bdbd-9d01edce03e6",
   "metadata": {},
   "outputs": [
    {
     "data": {
      "text/plain": [
       "[8, 2, 6, 'Hello', True]"
      ]
     },
     "execution_count": 102,
     "metadata": {},
     "output_type": "execute_result"
    }
   ],
   "source": [
    "s1"
   ]
  },
  {
   "cell_type": "markdown",
   "id": "85fb43ae-43f1-4707-800c-802355cc90c6",
   "metadata": {},
   "source": [
    "# Set"
   ]
  },
  {
   "cell_type": "raw",
   "id": "3a2b034c-35e5-45ef-acfd-9e41c5a68918",
   "metadata": {},
   "source": [
    "Set is written in {}.\n",
    "Set does not allow duplicated values."
   ]
  },
  {
   "cell_type": "code",
   "execution_count": 103,
   "id": "e21e0243-50bd-4b2a-b6cf-8770454196a0",
   "metadata": {},
   "outputs": [],
   "source": [
    "a = {1,2,3,4}"
   ]
  },
  {
   "cell_type": "code",
   "execution_count": 104,
   "id": "20aab008-1086-4adb-a48c-9c7d53932cfe",
   "metadata": {},
   "outputs": [
    {
     "data": {
      "text/plain": [
       "set"
      ]
     },
     "execution_count": 104,
     "metadata": {},
     "output_type": "execute_result"
    }
   ],
   "source": [
    "type(a)"
   ]
  },
  {
   "cell_type": "code",
   "execution_count": 105,
   "id": "ba0051fd-45a3-41dd-ac15-266b1ab2ae78",
   "metadata": {},
   "outputs": [],
   "source": [
    "z = {1,1,1,1,2,2,2,2,3,4,5}"
   ]
  },
  {
   "cell_type": "code",
   "execution_count": 106,
   "id": "8229e6f9-9472-4ac1-b4a4-aba8784da8ff",
   "metadata": {},
   "outputs": [
    {
     "data": {
      "text/plain": [
       "{1, 2, 3, 4, 5}"
      ]
     },
     "execution_count": 106,
     "metadata": {},
     "output_type": "execute_result"
    }
   ],
   "source": [
    "z"
   ]
  },
  {
   "cell_type": "code",
   "execution_count": 107,
   "id": "23f6a074-6c9e-435f-a89f-d5a9b041456a",
   "metadata": {},
   "outputs": [
    {
     "data": {
      "text/plain": [
       "{1, 2, 3, 4}"
      ]
     },
     "execution_count": 107,
     "metadata": {},
     "output_type": "execute_result"
    }
   ],
   "source": [
    "a"
   ]
  },
  {
   "cell_type": "code",
   "execution_count": 108,
   "id": "c7627029-929b-4b63-b346-8388ee0c0264",
   "metadata": {},
   "outputs": [],
   "source": [
    "b = {4,5,6,7}"
   ]
  },
  {
   "cell_type": "code",
   "execution_count": 109,
   "id": "aed98861-855a-4880-8564-196081d8ac54",
   "metadata": {},
   "outputs": [
    {
     "data": {
      "text/plain": [
       "{1, 2, 3, 4, 5, 6, 7}"
      ]
     },
     "execution_count": 109,
     "metadata": {},
     "output_type": "execute_result"
    }
   ],
   "source": [
    "a.union(b)"
   ]
  },
  {
   "cell_type": "code",
   "execution_count": 110,
   "id": "435c8e2e-80f3-415b-b669-65b46bcb6d5f",
   "metadata": {},
   "outputs": [
    {
     "data": {
      "text/plain": [
       "{4}"
      ]
     },
     "execution_count": 110,
     "metadata": {},
     "output_type": "execute_result"
    }
   ],
   "source": [
    "a.intersection(b)"
   ]
  },
  {
   "cell_type": "code",
   "execution_count": null,
   "id": "d78997d1-87a5-4f18-a6bc-ecde29469a98",
   "metadata": {},
   "outputs": [],
   "source": []
  }
 ],
 "metadata": {
  "kernelspec": {
   "display_name": "Python 3 (ipykernel)",
   "language": "python",
   "name": "python3"
  },
  "language_info": {
   "codemirror_mode": {
    "name": "ipython",
    "version": 3
   },
   "file_extension": ".py",
   "mimetype": "text/x-python",
   "name": "python",
   "nbconvert_exporter": "python",
   "pygments_lexer": "ipython3",
   "version": "3.12.4"
  }
 },
 "nbformat": 4,
 "nbformat_minor": 5
}
