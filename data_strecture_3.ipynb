{
 "cells": [
  {
   "cell_type": "markdown",
   "id": "aaf3688a-b440-47ac-aac4-420b128530d0",
   "metadata": {},
   "source": [
    "# Dict"
   ]
  },
  {
   "cell_type": "code",
   "execution_count": 1,
   "id": "0c904e40-4e38-4fc7-b6e5-a60cd5c386a7",
   "metadata": {},
   "outputs": [],
   "source": [
    "d = {'A':10, 'B':20, 'C':30}"
   ]
  },
  {
   "cell_type": "code",
   "execution_count": 2,
   "id": "d8fde51c-1d09-48c8-beb5-7a17ce13f0b5",
   "metadata": {},
   "outputs": [
    {
     "data": {
      "text/plain": [
       "{'A': 10, 'B': 20, 'C': 30}"
      ]
     },
     "execution_count": 2,
     "metadata": {},
     "output_type": "execute_result"
    }
   ],
   "source": [
    "d"
   ]
  },
  {
   "cell_type": "code",
   "execution_count": 3,
   "id": "8fc90d65-dfbb-4508-8c6f-0a775c12a580",
   "metadata": {},
   "outputs": [
    {
     "data": {
      "text/plain": [
       "dict"
      ]
     },
     "execution_count": 3,
     "metadata": {},
     "output_type": "execute_result"
    }
   ],
   "source": [
    "type(d)"
   ]
  },
  {
   "cell_type": "code",
   "execution_count": 4,
   "id": "6be7a368-48a6-4c38-ae5c-17497fff0e2a",
   "metadata": {},
   "outputs": [
    {
     "data": {
      "text/plain": [
       "dict_values([10, 20, 30])"
      ]
     },
     "execution_count": 4,
     "metadata": {},
     "output_type": "execute_result"
    }
   ],
   "source": [
    "d.values()"
   ]
  },
  {
   "cell_type": "code",
   "execution_count": 5,
   "id": "e09ee8e9-3523-4266-a683-82db45c39fe7",
   "metadata": {},
   "outputs": [
    {
     "data": {
      "text/plain": [
       "dict_keys(['A', 'B', 'C'])"
      ]
     },
     "execution_count": 5,
     "metadata": {},
     "output_type": "execute_result"
    }
   ],
   "source": [
    "d.keys()"
   ]
  },
  {
   "cell_type": "code",
   "execution_count": 6,
   "id": "d09e26e0-3f92-4d14-89b9-1164b1f753bc",
   "metadata": {},
   "outputs": [
    {
     "data": {
      "text/plain": [
       "{'A': 10, 'B': 20, 'C': 30}"
      ]
     },
     "execution_count": 6,
     "metadata": {},
     "output_type": "execute_result"
    }
   ],
   "source": [
    "d"
   ]
  },
  {
   "cell_type": "code",
   "execution_count": 7,
   "id": "f3327776-d5c5-4ba3-81d5-b3d4cfcc85d5",
   "metadata": {},
   "outputs": [
    {
     "data": {
      "text/plain": [
       "10"
      ]
     },
     "execution_count": 7,
     "metadata": {},
     "output_type": "execute_result"
    }
   ],
   "source": [
    "d['A']"
   ]
  },
  {
   "cell_type": "code",
   "execution_count": 8,
   "id": "194ac00e-274e-410e-a1e9-aebab23919bb",
   "metadata": {},
   "outputs": [],
   "source": [
    "d['E'] = 40"
   ]
  },
  {
   "cell_type": "code",
   "execution_count": 9,
   "id": "8d13fa6d-b9ab-4b09-bb93-8e6614055a19",
   "metadata": {},
   "outputs": [
    {
     "data": {
      "text/plain": [
       "{'A': 10, 'B': 20, 'C': 30, 'E': 40}"
      ]
     },
     "execution_count": 9,
     "metadata": {},
     "output_type": "execute_result"
    }
   ],
   "source": [
    "d"
   ]
  },
  {
   "cell_type": "code",
   "execution_count": 10,
   "id": "e1b3f68c-a603-4a48-9761-42b263c00451",
   "metadata": {},
   "outputs": [],
   "source": [
    "d['E'] = 1000"
   ]
  },
  {
   "cell_type": "code",
   "execution_count": 11,
   "id": "811f61f9-83d8-4f3e-914b-45799682c86e",
   "metadata": {},
   "outputs": [
    {
     "data": {
      "text/plain": [
       "{'A': 10, 'B': 20, 'C': 30, 'E': 1000}"
      ]
     },
     "execution_count": 11,
     "metadata": {},
     "output_type": "execute_result"
    }
   ],
   "source": [
    "d"
   ]
  },
  {
   "cell_type": "code",
   "execution_count": 12,
   "id": "cb6188f3-e813-4d1c-af18-f8e6a533f2a0",
   "metadata": {},
   "outputs": [],
   "source": [
    "data = {'Name':'Vaibhav', 'Last_name':'Bhosale', 'Age':24, 'Mobile':239838739}"
   ]
  },
  {
   "cell_type": "code",
   "execution_count": 13,
   "id": "e563c9dd-da29-4082-913c-5c9f3df9c009",
   "metadata": {},
   "outputs": [
    {
     "data": {
      "text/plain": [
       "{'Name': 'Vaibhav', 'Last_name': 'Bhosale', 'Age': 24, 'Mobile': 239838739}"
      ]
     },
     "execution_count": 13,
     "metadata": {},
     "output_type": "execute_result"
    }
   ],
   "source": [
    "data"
   ]
  },
  {
   "cell_type": "code",
   "execution_count": 14,
   "id": "bdf9d81c-69c4-4fef-b15a-c8c151ed0278",
   "metadata": {},
   "outputs": [
    {
     "data": {
      "text/plain": [
       "239838739"
      ]
     },
     "execution_count": 14,
     "metadata": {},
     "output_type": "execute_result"
    }
   ],
   "source": [
    "data['Mobile']"
   ]
  },
  {
   "cell_type": "code",
   "execution_count": 15,
   "id": "33a63797-c2d1-4026-b7e4-f01cc7cbb7c1",
   "metadata": {},
   "outputs": [],
   "source": [
    "data['Mobile'] = 8180"
   ]
  },
  {
   "cell_type": "code",
   "execution_count": 16,
   "id": "69e68dd0-3cab-4ce9-b60e-bc4b7604dfd8",
   "metadata": {},
   "outputs": [
    {
     "data": {
      "text/plain": [
       "{'Name': 'Vaibhav', 'Last_name': 'Bhosale', 'Age': 24, 'Mobile': 8180}"
      ]
     },
     "execution_count": 16,
     "metadata": {},
     "output_type": "execute_result"
    }
   ],
   "source": [
    "data"
   ]
  },
  {
   "cell_type": "code",
   "execution_count": null,
   "id": "99036a81-6758-4bb6-93fd-69ec5aa3ca62",
   "metadata": {},
   "outputs": [],
   "source": []
  }
 ],
 "metadata": {
  "kernelspec": {
   "display_name": "Python 3 (ipykernel)",
   "language": "python",
   "name": "python3"
  },
  "language_info": {
   "codemirror_mode": {
    "name": "ipython",
    "version": 3
   },
   "file_extension": ".py",
   "mimetype": "text/x-python",
   "name": "python",
   "nbconvert_exporter": "python",
   "pygments_lexer": "ipython3",
   "version": "3.12.4"
  }
 },
 "nbformat": 4,
 "nbformat_minor": 5
}
