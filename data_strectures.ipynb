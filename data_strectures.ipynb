{
 "cells": [
  {
   "cell_type": "markdown",
   "id": "e3b9bd68-bde3-4e96-a35b-314075ca6b25",
   "metadata": {},
   "source": [
    "# List "
   ]
  },
  {
   "cell_type": "markdown",
   "id": "036fdb41-438f-4871-a1ed-bb0b905d87f5",
   "metadata": {},
   "source": [
    "List is written in Square brackets"
   ]
  },
  {
   "cell_type": "code",
   "execution_count": 1,
   "id": "35c73de0-3f1b-4a60-8562-d8bdcf16857b",
   "metadata": {},
   "outputs": [],
   "source": [
    "a = [17,65,89,23,54]"
   ]
  },
  {
   "cell_type": "code",
   "execution_count": 2,
   "id": "708068df-2fd8-41c5-ab9a-c330b15848e5",
   "metadata": {},
   "outputs": [
    {
     "data": {
      "text/plain": [
       "[17, 65, 89, 23, 54]"
      ]
     },
     "execution_count": 2,
     "metadata": {},
     "output_type": "execute_result"
    }
   ],
   "source": [
    "a"
   ]
  },
  {
   "cell_type": "code",
   "execution_count": 3,
   "id": "6907d0a5-82fa-40cd-92a4-c0073182e5b4",
   "metadata": {},
   "outputs": [
    {
     "data": {
      "text/plain": [
       "list"
      ]
     },
     "execution_count": 3,
     "metadata": {},
     "output_type": "execute_result"
    }
   ],
   "source": [
    "type(a)"
   ]
  },
  {
   "cell_type": "code",
   "execution_count": 4,
   "id": "79119929-d7ea-4b65-940c-7e527c39ee6c",
   "metadata": {},
   "outputs": [],
   "source": [
    "mix = [15, 5.3, 10+5j, 'Hello', True]"
   ]
  },
  {
   "cell_type": "code",
   "execution_count": 5,
   "id": "504c234b-799f-4bcf-a03c-7172ca4da3c9",
   "metadata": {},
   "outputs": [
    {
     "data": {
      "text/plain": [
       "[15, 5.3, (10+5j), 'Hello', True]"
      ]
     },
     "execution_count": 5,
     "metadata": {},
     "output_type": "execute_result"
    }
   ],
   "source": [
    "mix"
   ]
  },
  {
   "cell_type": "code",
   "execution_count": 6,
   "id": "aa121bb0-9cb7-4104-8ab0-62df60a18c6a",
   "metadata": {},
   "outputs": [],
   "source": [
    "names = ['X', 'Y', 'Z']"
   ]
  },
  {
   "cell_type": "code",
   "execution_count": 7,
   "id": "af0dc39d-d854-4723-8e93-f295494b7c24",
   "metadata": {},
   "outputs": [
    {
     "data": {
      "text/plain": [
       "['X', 'Y', 'Z']"
      ]
     },
     "execution_count": 7,
     "metadata": {},
     "output_type": "execute_result"
    }
   ],
   "source": [
    "names"
   ]
  },
  {
   "cell_type": "code",
   "execution_count": 8,
   "id": "7e75d132-759e-4ee1-ad4b-a61bed01470c",
   "metadata": {},
   "outputs": [],
   "source": [
    "names = ['Vaibhav', 'Om', 'Sham', 'Ram', 'Rock']"
   ]
  },
  {
   "cell_type": "code",
   "execution_count": 9,
   "id": "fbfd531b-1465-4549-b6b1-ee890477a535",
   "metadata": {},
   "outputs": [
    {
     "data": {
      "text/plain": [
       "5"
      ]
     },
     "execution_count": 9,
     "metadata": {},
     "output_type": "execute_result"
    }
   ],
   "source": [
    "len(names)"
   ]
  },
  {
   "cell_type": "code",
   "execution_count": 10,
   "id": "cad35cd3-3fa1-4908-9e06-11e80cb061da",
   "metadata": {},
   "outputs": [
    {
     "data": {
      "text/plain": [
       "5"
      ]
     },
     "execution_count": 10,
     "metadata": {},
     "output_type": "execute_result"
    }
   ],
   "source": [
    "len(mix)"
   ]
  },
  {
   "cell_type": "code",
   "execution_count": 11,
   "id": "afe7a9c3-06e6-4c60-ba40-b2ff4a809208",
   "metadata": {},
   "outputs": [
    {
     "data": {
      "text/plain": [
       "['Vaibhav', 'Om', 'Sham', 'Ram', 'Rock']"
      ]
     },
     "execution_count": 11,
     "metadata": {},
     "output_type": "execute_result"
    }
   ],
   "source": [
    "names"
   ]
  },
  {
   "cell_type": "markdown",
   "id": "709c395b-ac35-4b13-8539-ff0989da15e4",
   "metadata": {},
   "source": [
    "# Indexing"
   ]
  },
  {
   "cell_type": "code",
   "execution_count": 12,
   "id": "1c4a9647-2e01-439d-aa4b-31ac59a27941",
   "metadata": {},
   "outputs": [
    {
     "data": {
      "text/plain": [
       "'Sham'"
      ]
     },
     "execution_count": 12,
     "metadata": {},
     "output_type": "execute_result"
    }
   ],
   "source": [
    "names[2]"
   ]
  },
  {
   "cell_type": "code",
   "execution_count": 17,
   "id": "cf776fcd-1da2-4eb3-8302-a6470c2756bb",
   "metadata": {},
   "outputs": [
    {
     "data": {
      "text/plain": [
       "'Rock'"
      ]
     },
     "execution_count": 17,
     "metadata": {},
     "output_type": "execute_result"
    }
   ],
   "source": [
    "names[4]"
   ]
  },
  {
   "cell_type": "code",
   "execution_count": 18,
   "id": "c5f68ab9-b9ed-4eca-bdda-87db659da591",
   "metadata": {},
   "outputs": [
    {
     "data": {
      "text/plain": [
       "'Rock'"
      ]
     },
     "execution_count": 18,
     "metadata": {},
     "output_type": "execute_result"
    }
   ],
   "source": [
    "names[-1]"
   ]
  },
  {
   "cell_type": "code",
   "execution_count": 19,
   "id": "ab9eb545-9d47-446a-9129-2d15b22e3f8b",
   "metadata": {},
   "outputs": [
    {
     "data": {
      "text/plain": [
       "'Ram'"
      ]
     },
     "execution_count": 19,
     "metadata": {},
     "output_type": "execute_result"
    }
   ],
   "source": [
    "names[-2]"
   ]
  },
  {
   "cell_type": "code",
   "execution_count": 20,
   "id": "135d0132-b36e-4920-8f6f-ded1a5291121",
   "metadata": {},
   "outputs": [
    {
     "data": {
      "text/plain": [
       "['Vaibhav', 'Om', 'Sham']"
      ]
     },
     "execution_count": 20,
     "metadata": {},
     "output_type": "execute_result"
    }
   ],
   "source": [
    "names[0:3]  #Starting index : End Index(Which will not included)"
   ]
  },
  {
   "cell_type": "code",
   "execution_count": 21,
   "id": "fe9a2f0a-6c28-4ce0-abf1-77804116a318",
   "metadata": {},
   "outputs": [
    {
     "data": {
      "text/plain": [
       "['Sham', 'Ram', 'Rock']"
      ]
     },
     "execution_count": 21,
     "metadata": {},
     "output_type": "execute_result"
    }
   ],
   "source": [
    "names[2:5]"
   ]
  },
  {
   "cell_type": "code",
   "execution_count": 22,
   "id": "01786f23-bae9-487c-aef3-209bc9156e19",
   "metadata": {},
   "outputs": [
    {
     "data": {
      "text/plain": [
       "['Om', 'Sham', 'Ram', 'Rock']"
      ]
     },
     "execution_count": 22,
     "metadata": {},
     "output_type": "execute_result"
    }
   ],
   "source": [
    "names[1:]"
   ]
  },
  {
   "cell_type": "code",
   "execution_count": 23,
   "id": "730f30be-d455-49f6-8abb-067ba13bba82",
   "metadata": {},
   "outputs": [
    {
     "data": {
      "text/plain": [
       "['Vaibhav', 'Om', 'Sham', 'Ram', 'Rock']"
      ]
     },
     "execution_count": 23,
     "metadata": {},
     "output_type": "execute_result"
    }
   ],
   "source": [
    "names"
   ]
  },
  {
   "cell_type": "code",
   "execution_count": 24,
   "id": "6218330e-cd5a-4371-90b5-ab3569789279",
   "metadata": {},
   "outputs": [
    {
     "data": {
      "text/plain": [
       "['Vaibhav', 'Om', 'Sham', 'Ram', 'Rock']"
      ]
     },
     "execution_count": 24,
     "metadata": {},
     "output_type": "execute_result"
    }
   ],
   "source": [
    "names[:]"
   ]
  },
  {
   "cell_type": "code",
   "execution_count": 25,
   "id": "f3fa09ab-e518-4f28-9ea1-7076d09ec09f",
   "metadata": {},
   "outputs": [
    {
     "data": {
      "text/plain": [
       "['Vaibhav', 'Om', 'Sham', 'Ram', 'Rock']"
      ]
     },
     "execution_count": 25,
     "metadata": {},
     "output_type": "execute_result"
    }
   ],
   "source": [
    "names[0:5:1]  #Start point : End Point : Jumpu Size"
   ]
  },
  {
   "cell_type": "code",
   "execution_count": 26,
   "id": "4fa05003-abb5-4e68-8a8f-de4b4e53f355",
   "metadata": {},
   "outputs": [
    {
     "data": {
      "text/plain": [
       "['Vaibhav', 'Sham', 'Rock']"
      ]
     },
     "execution_count": 26,
     "metadata": {},
     "output_type": "execute_result"
    }
   ],
   "source": [
    "names[0:5:2] "
   ]
  },
  {
   "cell_type": "code",
   "execution_count": 27,
   "id": "cc823fd2-d621-45e4-b163-f62826d8a854",
   "metadata": {},
   "outputs": [
    {
     "data": {
      "text/plain": [
       "[15, 5.3, (10+5j), 'Hello', True]"
      ]
     },
     "execution_count": 27,
     "metadata": {},
     "output_type": "execute_result"
    }
   ],
   "source": [
    "mix"
   ]
  },
  {
   "cell_type": "code",
   "execution_count": 28,
   "id": "e158f0fc-5e54-4f2a-96df-a0a1f89cd11c",
   "metadata": {},
   "outputs": [],
   "source": [
    "numbers = [10,20,30,40,50,0,70]"
   ]
  },
  {
   "cell_type": "code",
   "execution_count": null,
   "id": "45f7435e-651f-4152-adb4-9c301e979b67",
   "metadata": {},
   "outputs": [],
   "source": []
  }
 ],
 "metadata": {
  "kernelspec": {
   "display_name": "Python 3 (ipykernel)",
   "language": "python",
   "name": "python3"
  },
  "language_info": {
   "codemirror_mode": {
    "name": "ipython",
    "version": 3
   },
   "file_extension": ".py",
   "mimetype": "text/x-python",
   "name": "python",
   "nbconvert_exporter": "python",
   "pygments_lexer": "ipython3",
   "version": "3.12.4"
  }
 },
 "nbformat": 4,
 "nbformat_minor": 5
}
