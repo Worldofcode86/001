{
 "cells": [
  {
   "cell_type": "raw",
   "id": "a5e00206-34bb-40ef-b9fa-d3014f68ddd5",
   "metadata": {},
   "source": [
    "mod for evrn or odd number\n"
   ]
  },
  {
   "cell_type": "code",
   "execution_count": 3,
   "id": "8fc18b4f-6c42-44ac-a755-5d056309ebee",
   "metadata": {},
   "outputs": [
    {
     "data": {
      "text/plain": [
       "0"
      ]
     },
     "execution_count": 3,
     "metadata": {},
     "output_type": "execute_result"
    }
   ],
   "source": [
    "10 % 2"
   ]
  },
  {
   "cell_type": "code",
   "execution_count": 4,
   "id": "eb0f7452-d2d6-42d4-af26-100e35bb12d0",
   "metadata": {},
   "outputs": [
    {
     "data": {
      "text/plain": [
       "1"
      ]
     },
     "execution_count": 4,
     "metadata": {},
     "output_type": "execute_result"
    }
   ],
   "source": [
    "9 % 2"
   ]
  },
  {
   "cell_type": "code",
   "execution_count": 5,
   "id": "8e4516fd-6674-4879-b9a6-d53f16b0c291",
   "metadata": {},
   "outputs": [
    {
     "data": {
      "text/plain": [
       "0"
      ]
     },
     "execution_count": 5,
     "metadata": {},
     "output_type": "execute_result"
    }
   ],
   "source": [
    "222 % 2"
   ]
  },
  {
   "cell_type": "code",
   "execution_count": 6,
   "id": "1accfa31-f67b-4041-9d96-71ed784cdb52",
   "metadata": {},
   "outputs": [],
   "source": [
    "num = 10"
   ]
  },
  {
   "cell_type": "code",
   "execution_count": 7,
   "id": "8a97de58-0088-4a69-adce-38dc2a22ebc5",
   "metadata": {},
   "outputs": [
    {
     "name": "stdout",
     "output_type": "stream",
     "text": [
      "even number 10\n"
     ]
    }
   ],
   "source": [
    "if num % 2 == 0:\n",
    "    print('even number',num)\n",
    "else:\n",
    "    print('odd number',num)"
   ]
  },
  {
   "cell_type": "code",
   "execution_count": 8,
   "id": "df97d173-1b34-4bab-a218-ca3be73a08fc",
   "metadata": {},
   "outputs": [],
   "source": [
    "num = 7"
   ]
  },
  {
   "cell_type": "code",
   "execution_count": 9,
   "id": "7d43866a-9e01-4646-8095-8265b69337a5",
   "metadata": {},
   "outputs": [
    {
     "name": "stdout",
     "output_type": "stream",
     "text": [
      "odd number 7\n"
     ]
    }
   ],
   "source": [
    "if num % 2 == 0:\n",
    "    print('even number',num)\n",
    "else:\n",
    "    print('odd number',num)"
   ]
  },
  {
   "cell_type": "code",
   "execution_count": 10,
   "id": "c84d4861-6a6c-47e3-933c-145a10708edb",
   "metadata": {},
   "outputs": [
    {
     "name": "stdout",
     "output_type": "stream",
     "text": [
      "odd number 7\n"
     ]
    }
   ],
   "source": [
    "if num % 2 == 1:\n",
    "    print('odd number',num)\n",
    "else:\n",
    "    print('even number',num)"
   ]
  },
  {
   "cell_type": "code",
   "execution_count": 11,
   "id": "60d9369e-0ca7-4e17-85ca-fe2c97e35cef",
   "metadata": {},
   "outputs": [],
   "source": [
    "l = [1,56,8,9,46,85,14,63]"
   ]
  },
  {
   "cell_type": "code",
   "execution_count": 12,
   "id": "95702d1d-8934-4d23-80c5-4aaa123c8798",
   "metadata": {},
   "outputs": [
    {
     "name": "stdout",
     "output_type": "stream",
     "text": [
      "1\n",
      "56\n",
      "8\n",
      "9\n",
      "46\n",
      "85\n",
      "14\n",
      "63\n"
     ]
    }
   ],
   "source": [
    "for i in l:\n",
    "    print(i)"
   ]
  },
  {
   "cell_type": "code",
   "execution_count": 13,
   "id": "459d309e-31e9-4423-95de-3f75c65f6f21",
   "metadata": {},
   "outputs": [
    {
     "name": "stdout",
     "output_type": "stream",
     "text": [
      "56\n",
      "8\n",
      "46\n",
      "14\n"
     ]
    }
   ],
   "source": [
    "for i in l:\n",
    "    if i % 2 == 0:\n",
    "        print(i)"
   ]
  },
  {
   "cell_type": "markdown",
   "id": "5b172732-f6a6-49dd-b51f-34440c79327d",
   "metadata": {},
   "source": [
    "# function"
   ]
  },
  {
   "cell_type": "code",
   "execution_count": 14,
   "id": "80fcf74e-c6e5-427a-8f7b-ca5b1bf9e8e8",
   "metadata": {},
   "outputs": [
    {
     "data": {
      "text/plain": [
       "<function list.append(object, /)>"
      ]
     },
     "execution_count": 14,
     "metadata": {},
     "output_type": "execute_result"
    }
   ],
   "source": [
    "l.append"
   ]
  },
  {
   "cell_type": "markdown",
   "id": "cd0e5755-4792-4598-b843-6cd535c9f6c5",
   "metadata": {},
   "source": [
    "# defining function"
   ]
  },
  {
   "cell_type": "code",
   "execution_count": 16,
   "id": "d595486c-ce63-4823-8895-514f6a734673",
   "metadata": {},
   "outputs": [],
   "source": [
    "def test():\n",
    "    print('hello')"
   ]
  },
  {
   "cell_type": "code",
   "execution_count": 18,
   "id": "1c0f70d2-648b-4f65-a397-8d6f4000f912",
   "metadata": {},
   "outputs": [
    {
     "name": "stdout",
     "output_type": "stream",
     "text": [
      "hello\n"
     ]
    }
   ],
   "source": [
    "test()"
   ]
  },
  {
   "cell_type": "code",
   "execution_count": 19,
   "id": "2d994532-114a-4d30-bf32-bf9d863b6052",
   "metadata": {},
   "outputs": [],
   "source": [
    "def code1 ():\n",
    "    print('web dev')"
   ]
  },
  {
   "cell_type": "code",
   "execution_count": 20,
   "id": "f8d7cf32-b041-4c2b-9a30-0e25ecc2a3dd",
   "metadata": {},
   "outputs": [
    {
     "name": "stdout",
     "output_type": "stream",
     "text": [
      "web dev\n"
     ]
    }
   ],
   "source": [
    "code1()"
   ]
  },
  {
   "cell_type": "markdown",
   "id": "eabe98e9-1d54-45d2-b0d0-1be00ff6a922",
   "metadata": {},
   "source": [
    "# how to write function of dockstring"
   ]
  },
  {
   "cell_type": "code",
   "execution_count": 21,
   "id": "8c86c1f6-ad20-4914-ada4-98998f943b6e",
   "metadata": {},
   "outputs": [],
   "source": [
    "def hit():\n",
    "    \"\"\"this is my code\n",
    "    it represents me\"\"\"\n",
    "    print(' it represents me')"
   ]
  },
  {
   "cell_type": "code",
   "execution_count": 22,
   "id": "d04650be-c90e-49db-850a-9b8329731863",
   "metadata": {},
   "outputs": [
    {
     "name": "stdout",
     "output_type": "stream",
     "text": [
      " it represents me\n"
     ]
    }
   ],
   "source": [
    "hit()"
   ]
  },
  {
   "cell_type": "markdown",
   "id": "48d3db4f-4caf-4d84-a6be-ea952b6f1ab4",
   "metadata": {},
   "source": [
    "# questions"
   ]
  },
  {
   "cell_type": "raw",
   "id": "2f1fe9fc-2cd5-4cf0-a8e4-92b2ab9e1a61",
   "metadata": {},
   "source": [
    "1.what is function ?\n",
    "---> function is going to execute speciffic task.\n",
    "---> exicute block of code\n",
    "\n",
    "2.how to write fuction dockdtring?\n",
    "-->in triple qutotes we will write it down.\n",
    "\n",
    "3.how to create function ?\n",
    "--> by writing down def then function name () : then block of code"
   ]
  },
  {
   "cell_type": "markdown",
   "id": "0c0e9188-c4f5-4896-bb15-bbd7d0f7012b",
   "metadata": {},
   "source": [
    "# difference b\\w print&return"
   ]
  },
  {
   "cell_type": "markdown",
   "id": "63b104ea-f3e0-47a9-882a-626107a6b53d",
   "metadata": {},
   "source": [
    "print                                 return\n",
    "1.it just showcase objects            1.return is going to write its actual data/data type \n",
    "2.non type data                       2.actual data type"
   ]
  },
  {
   "cell_type": "code",
   "execution_count": 1,
   "id": "81d02397-3da4-41fb-b075-38fd59a7d954",
   "metadata": {},
   "outputs": [],
   "source": [
    "def test1():\n",
    "    return 10"
   ]
  },
  {
   "cell_type": "code",
   "execution_count": 2,
   "id": "752dd070-1f39-49db-8a18-3cace2880081",
   "metadata": {},
   "outputs": [
    {
     "data": {
      "text/plain": [
       "<function __main__.test1()>"
      ]
     },
     "execution_count": 2,
     "metadata": {},
     "output_type": "execute_result"
    }
   ],
   "source": [
    "test1"
   ]
  },
  {
   "cell_type": "code",
   "execution_count": 3,
   "id": "52298f77-7795-4d91-aeba-ecc1f40a3675",
   "metadata": {},
   "outputs": [
    {
     "data": {
      "text/plain": [
       "20"
      ]
     },
     "execution_count": 3,
     "metadata": {},
     "output_type": "execute_result"
    }
   ],
   "source": [
    "test1()+test1()"
   ]
  },
  {
   "cell_type": "markdown",
   "id": "b91c8101-770c-4a9c-a994-cb3d522665b9",
   "metadata": {},
   "source": [
    "# argument in function "
   ]
  },
  {
   "cell_type": "code",
   "execution_count": 4,
   "id": "0379217f-934c-414a-8b21-ef4b765bbe78",
   "metadata": {},
   "outputs": [],
   "source": [
    "def test5(a):\n",
    "    return a"
   ]
  },
  {
   "cell_type": "code",
   "execution_count": 6,
   "id": "c1941e66-8bca-44e5-9120-f834406ab48d",
   "metadata": {},
   "outputs": [
    {
     "ename": "NameError",
     "evalue": "name 'a' is not defined",
     "output_type": "error",
     "traceback": [
      "\u001b[1;31m---------------------------------------------------------------------------\u001b[0m",
      "\u001b[1;31mNameError\u001b[0m                                 Traceback (most recent call last)",
      "Cell \u001b[1;32mIn[6], line 1\u001b[0m\n\u001b[1;32m----> 1\u001b[0m test1(a)\n",
      "\u001b[1;31mNameError\u001b[0m: name 'a' is not defined"
     ]
    }
   ],
   "source": [
    "test1(a)"
   ]
  },
  {
   "cell_type": "code",
   "execution_count": 11,
   "id": "7ecc70a5-b636-40a6-b7fe-3e3588d00399",
   "metadata": {},
   "outputs": [
    {
     "ename": "SyntaxError",
     "evalue": "invalid syntax (2777301195.py, line 1)",
     "output_type": "error",
     "traceback": [
      "\u001b[1;36m  Cell \u001b[1;32mIn[11], line 1\u001b[1;36m\u001b[0m\n\u001b[1;33m    def test1 (10):\u001b[0m\n\u001b[1;37m               ^\u001b[0m\n\u001b[1;31mSyntaxError\u001b[0m\u001b[1;31m:\u001b[0m invalid syntax\n"
     ]
    }
   ],
   "source": [
    "def test1 (10):\n",
    "    return a"
   ]
  },
  {
   "cell_type": "code",
   "execution_count": 12,
   "id": "6653334e-59a5-496b-8e64-a6273e0c5f0c",
   "metadata": {},
   "outputs": [
    {
     "ename": "TypeError",
     "evalue": "test1() takes 0 positional arguments but 1 was given",
     "output_type": "error",
     "traceback": [
      "\u001b[1;31m---------------------------------------------------------------------------\u001b[0m",
      "\u001b[1;31mTypeError\u001b[0m                                 Traceback (most recent call last)",
      "Cell \u001b[1;32mIn[12], line 1\u001b[0m\n\u001b[1;32m----> 1\u001b[0m test1(\u001b[38;5;241m10\u001b[39m)\n",
      "\u001b[1;31mTypeError\u001b[0m: test1() takes 0 positional arguments but 1 was given"
     ]
    }
   ],
   "source": [
    "test1(10)"
   ]
  },
  {
   "cell_type": "code",
   "execution_count": 13,
   "id": "77ceeec6-4267-42ba-b7ec-9c22e3255df8",
   "metadata": {},
   "outputs": [],
   "source": [
    "# multiple argument"
   ]
  },
  {
   "cell_type": "code",
   "execution_count": 14,
   "id": "ad21cc39-82ee-4270-8369-365671a079ae",
   "metadata": {},
   "outputs": [],
   "source": [
    "def test6(a,b):\n",
    "    return a,b\n",
    "    "
   ]
  },
  {
   "cell_type": "code",
   "execution_count": 15,
   "id": "8a9facc9-e06c-4060-9567-b037282ca3b8",
   "metadata": {},
   "outputs": [
    {
     "data": {
      "text/plain": [
       "(5, 8)"
      ]
     },
     "execution_count": 15,
     "metadata": {},
     "output_type": "execute_result"
    }
   ],
   "source": [
    "test6(5,8)"
   ]
  },
  {
   "cell_type": "code",
   "execution_count": 17,
   "id": "c988accd-f8de-4033-93c8-a4bca36a6a54",
   "metadata": {},
   "outputs": [],
   "source": [
    "def test7(a,b):\n",
    "    return a+b"
   ]
  },
  {
   "cell_type": "code",
   "execution_count": 18,
   "id": "70b6133b-3e2d-4cc2-b803-3e59548ca558",
   "metadata": {},
   "outputs": [
    {
     "data": {
      "text/plain": [
       "13"
      ]
     },
     "execution_count": 18,
     "metadata": {},
     "output_type": "execute_result"
    }
   ],
   "source": [
    "test7(5,8)"
   ]
  },
  {
   "cell_type": "code",
   "execution_count": 19,
   "id": "71acfb2b-e8ba-49f8-92ad-e155f5adf238",
   "metadata": {},
   "outputs": [],
   "source": [
    "def test8(a,b):\n",
    "    return a*b"
   ]
  },
  {
   "cell_type": "code",
   "execution_count": 20,
   "id": "11dc0b77-f5c6-42b9-afd1-3c2d6ab4a62e",
   "metadata": {},
   "outputs": [
    {
     "data": {
      "text/plain": [
       "4"
      ]
     },
     "execution_count": 20,
     "metadata": {},
     "output_type": "execute_result"
    }
   ],
   "source": [
    "test8(2,2)"
   ]
  },
  {
   "cell_type": "code",
   "execution_count": 21,
   "id": "2a91d6bb-1ca5-44ac-8151-c1b22dc9bc23",
   "metadata": {},
   "outputs": [],
   "source": [
    "def square(a):\n",
    "    return a**2"
   ]
  },
  {
   "cell_type": "code",
   "execution_count": 22,
   "id": "ba33bcd8-603d-4627-807b-247f35cda6c2",
   "metadata": {},
   "outputs": [
    {
     "data": {
      "text/plain": [
       "25"
      ]
     },
     "execution_count": 22,
     "metadata": {},
     "output_type": "execute_result"
    }
   ],
   "source": [
    "square(5)"
   ]
  },
  {
   "cell_type": "markdown",
   "id": "2e0b87fa-9a76-4ac2-8660-902cf498c52e",
   "metadata": {},
   "source": [
    "# multiple argument"
   ]
  },
  {
   "cell_type": "code",
   "execution_count": 23,
   "id": "472d49e5-9097-41ec-95c5-6b4872822ece",
   "metadata": {},
   "outputs": [],
   "source": [
    "def test5(*args):\n",
    "    return args"
   ]
  },
  {
   "cell_type": "code",
   "execution_count": 24,
   "id": "90984ee1-f223-4482-87ae-2b4393f473c6",
   "metadata": {},
   "outputs": [
    {
     "data": {
      "text/plain": [
       "(1, 5, 68, 1, 54794, 6, 14, 7)"
      ]
     },
     "execution_count": 24,
     "metadata": {},
     "output_type": "execute_result"
    }
   ],
   "source": [
    "test5(1,5,68,1,54794,6,14,7)"
   ]
  },
  {
   "cell_type": "code",
   "execution_count": 25,
   "id": "73456dfa-29f1-4fdf-9dbe-02467459603f",
   "metadata": {},
   "outputs": [],
   "source": [
    "def test4(a,*args):\n",
    "    return a,args"
   ]
  },
  {
   "cell_type": "code",
   "execution_count": 26,
   "id": "5dcceb95-9f09-405a-a5d2-6b0cc924a3db",
   "metadata": {},
   "outputs": [
    {
     "data": {
      "text/plain": [
       "(4, (8649, 7, 489, 46, 78, 178, 1))"
      ]
     },
     "execution_count": 26,
     "metadata": {},
     "output_type": "execute_result"
    }
   ],
   "source": [
    "test4(4,8649,7,489,46,78,178,1)"
   ]
  },
  {
   "cell_type": "code",
   "execution_count": 34,
   "id": "fbd4896a-c80d-446f-8a49-cf76938c0071",
   "metadata": {},
   "outputs": [],
   "source": [
    "def test9(a,b,c,*code):\n",
    "    return a,b,c,code"
   ]
  },
  {
   "cell_type": "code",
   "execution_count": 38,
   "id": "33f21f16-78c3-4356-9d88-0f9263763968",
   "metadata": {},
   "outputs": [
    {
     "ename": "SyntaxError",
     "evalue": "invalid syntax (3283115586.py, line 1)",
     "output_type": "error",
     "traceback": [
      "\u001b[1;36m  Cell \u001b[1;32mIn[38], line 1\u001b[1;36m\u001b[0m\n\u001b[1;33m    test9(1,5,634,8,,5,87,6,749,7)\u001b[0m\n\u001b[1;37m                    ^\u001b[0m\n\u001b[1;31mSyntaxError\u001b[0m\u001b[1;31m:\u001b[0m invalid syntax\n"
     ]
    }
   ],
   "source": [
    "test9(1,5,634,8,,5,87,6,749,7)"
   ]
  },
  {
   "cell_type": "code",
   "execution_count": 39,
   "id": "a7f028e2-e8f7-4bc9-be00-680cd4b42bc9",
   "metadata": {},
   "outputs": [],
   "source": [
    "# data segerigation "
   ]
  },
  {
   "cell_type": "code",
   "execution_count": 48,
   "id": "2a5fb0cb-624c-4f1b-a97a-65bc35f570c6",
   "metadata": {},
   "outputs": [
    {
     "ename": "IndentationError",
     "evalue": "expected an indented block after 'if' statement on line 4 (2019387845.py, line 5)",
     "output_type": "error",
     "traceback": [
      "\u001b[1;36m  Cell \u001b[1;32mIn[48], line 5\u001b[1;36m\u001b[0m\n\u001b[1;33m    l.append(i)\u001b[0m\n\u001b[1;37m    ^\u001b[0m\n\u001b[1;31mIndentationError\u001b[0m\u001b[1;31m:\u001b[0m expected an indented block after 'if' statement on line 4\n"
     ]
    }
   ],
   "source": [
    "def int_filter(*args):\n",
    "    l=[]\n",
    "    for i in args:\n",
    "        if type(i) == int:\n",
    "    l.append(i)\n",
    "        return l"
   ]
  },
  {
   "cell_type": "code",
   "execution_count": 51,
   "id": "c6f045b6-b10d-4baf-905c-95ac47fb1652",
   "metadata": {},
   "outputs": [
    {
     "ename": "NameError",
     "evalue": "name 'test34' is not defined",
     "output_type": "error",
     "traceback": [
      "\u001b[1;31m---------------------------------------------------------------------------\u001b[0m",
      "\u001b[1;31mNameError\u001b[0m                                 Traceback (most recent call last)",
      "Cell \u001b[1;32mIn[51], line 1\u001b[0m\n\u001b[1;32m----> 1\u001b[0m test34(a\u001b[38;5;241m=\u001b[39m\u001b[38;5;241m5\u001b[39m,b\u001b[38;5;241m=\u001b[39m\u001b[38;5;241m8\u001b[39m,c\u001b[38;5;241m=\u001b[39m\u001b[38;5;241m6\u001b[39m)\n",
      "\u001b[1;31mNameError\u001b[0m: name 'test34' is not defined"
     ]
    }
   ],
   "source": [
    "test34(a=5,b=8,c=6)"
   ]
  },
  {
   "cell_type": "code",
   "execution_count": 52,
   "id": "bd40e86d-4a84-4a33-97a4-6ae5ed5e9c7e",
   "metadata": {},
   "outputs": [],
   "source": [
    "def test34(**kwargs):\n",
    "    return kwargs"
   ]
  },
  {
   "cell_type": "code",
   "execution_count": 53,
   "id": "6424ae32-4f90-43b2-b5fb-1fa03d3e8667",
   "metadata": {},
   "outputs": [
    {
     "data": {
      "text/plain": [
       "{'a': 5, 'b': 8, 'c': 6}"
      ]
     },
     "execution_count": 53,
     "metadata": {},
     "output_type": "execute_result"
    }
   ],
   "source": [
    "test34(a=5,b=8,c=6)"
   ]
  },
  {
   "cell_type": "code",
   "execution_count": 55,
   "id": "8d9b361f-708e-4d05-818f-65d50ff12329",
   "metadata": {},
   "outputs": [],
   "source": [
    "def test16(**kwargs):\n",
    "    return kwargs.keys()"
   ]
  },
  {
   "cell_type": "code",
   "execution_count": 57,
   "id": "f42600f7-ff30-4a2d-91e3-ca05dc287379",
   "metadata": {},
   "outputs": [
    {
     "data": {
      "text/plain": [
       "dict_keys(['a', 'n', 'f'])"
      ]
     },
     "execution_count": 57,
     "metadata": {},
     "output_type": "execute_result"
    }
   ],
   "source": [
    "test16(a=7,n=4,f=45)"
   ]
  },
  {
   "cell_type": "code",
   "execution_count": 70,
   "id": "3503669c-8d8c-4c7f-adcc-a3bf42be52a0",
   "metadata": {},
   "outputs": [],
   "source": [
    "def test68(*args,**kwargs):\n",
    "    return args,kwargs"
   ]
  },
  {
   "cell_type": "code",
   "execution_count": 62,
   "id": "84964479-a4f5-4fe9-b234-beb7ee63ee6e",
   "metadata": {},
   "outputs": [
    {
     "data": {
      "text/plain": [
       "<function __main__.test(**kwargs)>"
      ]
     },
     "execution_count": 62,
     "metadata": {},
     "output_type": "execute_result"
    }
   ],
   "source": [
    "test"
   ]
  },
  {
   "cell_type": "code",
   "execution_count": 63,
   "id": "47e13b04-476e-4c92-bf0c-df81c3725c15",
   "metadata": {},
   "outputs": [
    {
     "ename": "NameError",
     "evalue": "name 'tes' is not defined",
     "output_type": "error",
     "traceback": [
      "\u001b[1;31m---------------------------------------------------------------------------\u001b[0m",
      "\u001b[1;31mNameError\u001b[0m                                 Traceback (most recent call last)",
      "Cell \u001b[1;32mIn[63], line 1\u001b[0m\n\u001b[1;32m----> 1\u001b[0m tes\n",
      "\u001b[1;31mNameError\u001b[0m: name 'tes' is not defined"
     ]
    }
   ],
   "source": [
    "tes"
   ]
  },
  {
   "cell_type": "code",
   "execution_count": null,
   "id": "4a7ac3f8-4e32-4a85-a4bc-e02ed924aef2",
   "metadata": {},
   "outputs": [],
   "source": []
  },
  {
   "cell_type": "code",
   "execution_count": 71,
   "id": "4c30a503-0221-4ab3-9fb1-f5a1eeb9b0c6",
   "metadata": {},
   "outputs": [
    {
     "data": {
      "text/plain": [
       "((4, 5, 9, 4, 6, 7, 47), {'g': 7, 'j': 6})"
      ]
     },
     "execution_count": 71,
     "metadata": {},
     "output_type": "execute_result"
    }
   ],
   "source": [
    "test68(4,5,9,4,6,7,47,g=7,j=6)"
   ]
  },
  {
   "cell_type": "code",
   "execution_count": 72,
   "id": "595cfd0c-e2ef-4bde-86b2-e5609ca4824f",
   "metadata": {},
   "outputs": [],
   "source": [
    "def test69(a,*args,**kwargs):\n",
    "    return a,args,kwargs"
   ]
  },
  {
   "cell_type": "code",
   "execution_count": 73,
   "id": "20de9bfb-be60-4d26-9c14-1a85c5de301b",
   "metadata": {},
   "outputs": [
    {
     "data": {
      "text/plain": [
       "(4, (5, 9, 4, 6, 7, 47), {'g': 7, 'j': 6})"
      ]
     },
     "execution_count": 73,
     "metadata": {},
     "output_type": "execute_result"
    }
   ],
   "source": [
    "test69(4,5,9,4,6,7,47,g=7,j=6)"
   ]
  },
  {
   "cell_type": "code",
   "execution_count": null,
   "id": "2d39afc4-ff73-4828-967a-d3f40f26805b",
   "metadata": {},
   "outputs": [],
   "source": []
  }
 ],
 "metadata": {
  "kernelspec": {
   "display_name": "Python 3 (ipykernel)",
   "language": "python",
   "name": "python3"
  },
  "language_info": {
   "codemirror_mode": {
    "name": "ipython",
    "version": 3
   },
   "file_extension": ".py",
   "mimetype": "text/x-python",
   "name": "python",
   "nbconvert_exporter": "python",
   "pygments_lexer": "ipython3",
   "version": "3.12.7"
  }
 },
 "nbformat": 4,
 "nbformat_minor": 5
}
