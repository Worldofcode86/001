{
 "cells": [
  {
   "cell_type": "code",
   "execution_count": 1,
   "id": "cd64c565-713d-44ca-b1b6-ad94ec4b52d9",
   "metadata": {},
   "outputs": [],
   "source": [
    "l= [1,2,3,4]"
   ]
  },
  {
   "cell_type": "code",
   "execution_count": 2,
   "id": "43f81b11-681a-4d80-96cd-6e63804977fb",
   "metadata": {},
   "outputs": [
    {
     "name": "stdout",
     "output_type": "stream",
     "text": [
      "1\n",
      "2\n",
      "3\n",
      "4\n"
     ]
    }
   ],
   "source": [
    "for num in l:                                                    \n",
    "    print(num)"
   ]
  },
  {
   "cell_type": "code",
   "execution_count": 3,
   "id": "a111e028-6a16-4834-871c-86172295755a",
   "metadata": {},
   "outputs": [
    {
     "data": {
      "text/plain": [
       "4"
      ]
     },
     "execution_count": 3,
     "metadata": {},
     "output_type": "execute_result"
    }
   ],
   "source": [
    "len(l)"
   ]
  },
  {
   "cell_type": "code",
   "execution_count": 4,
   "id": "2b22bd19-6d0c-4dec-bee8-064eb27bdead",
   "metadata": {},
   "outputs": [
    {
     "name": "stdout",
     "output_type": "stream",
     "text": [
      "hello\n",
      "hello\n",
      "hello\n",
      "hello\n"
     ]
    }
   ],
   "source": [
    "for num in l:\n",
    "    print('hello')"
   ]
  },
  {
   "cell_type": "code",
   "execution_count": 5,
   "id": "ff07f1a3-9f89-471b-9f1e-18e188b68734",
   "metadata": {},
   "outputs": [
    {
     "name": "stdout",
     "output_type": "stream",
     "text": [
      "[1, 2, 3, 4]\n",
      "[1, 2, 3, 4]\n",
      "[1, 2, 3, 4]\n",
      "[1, 2, 3, 4]\n"
     ]
    }
   ],
   "source": [
    "for i in l:\n",
    "    print(l)\n",
    "    "
   ]
  },
  {
   "cell_type": "markdown",
   "id": "a6affeb7-b4f4-4f29-8db3-b96ce9110d40",
   "metadata": {},
   "source": [
    "# range of data set "
   ]
  },
  {
   "cell_type": "code",
   "execution_count": 6,
   "id": "b49fbedf-43bb-4adb-8202-1ce78e590747",
   "metadata": {},
   "outputs": [
    {
     "data": {
      "text/plain": [
       "range(0, 5)"
      ]
     },
     "execution_count": 6,
     "metadata": {},
     "output_type": "execute_result"
    }
   ],
   "source": [
    "range(5)"
   ]
  },
  {
   "cell_type": "code",
   "execution_count": 9,
   "id": "c5013e02-b65d-4da1-815c-19caf6676b1b",
   "metadata": {},
   "outputs": [
    {
     "name": "stdout",
     "output_type": "stream",
     "text": [
      "<class 'range'>\n",
      "<class 'range'>\n",
      "<class 'range'>\n",
      "<class 'range'>\n",
      "<class 'range'>\n"
     ]
    }
   ],
   "source": [
    "for i in range(5):\n",
    "    print(range)\n"
   ]
  },
  {
   "cell_type": "code",
   "execution_count": 10,
   "id": "bbb1570d-226b-40da-b718-58226b0ccec9",
   "metadata": {},
   "outputs": [
    {
     "name": "stdout",
     "output_type": "stream",
     "text": [
      "1\n",
      "2\n",
      "3\n",
      "4\n",
      "5\n",
      "6\n",
      "7\n",
      "8\n",
      "9\n",
      "10\n"
     ]
    }
   ],
   "source": [
    "for i in range (1,11):\n",
    "    print (i)"
   ]
  },
  {
   "cell_type": "code",
   "execution_count": 14,
   "id": "017c97fc-0309-4511-a65e-483e39310e04",
   "metadata": {},
   "outputs": [
    {
     "name": "stdout",
     "output_type": "stream",
     "text": [
      "2\n",
      "4\n",
      "6\n",
      "8\n",
      "10\n",
      "12\n",
      "14\n",
      "16\n",
      "18\n",
      "20\n"
     ]
    }
   ],
   "source": [
    "for i in range (2,21,2): # by this waay  we can make truth tables\n",
    "    print (i)"
   ]
  },
  {
   "cell_type": "code",
   "execution_count": 15,
   "id": "a6a2bbf5-a2f0-4a4d-bdb3-1b30f01844bf",
   "metadata": {},
   "outputs": [
    {
     "name": "stdout",
     "output_type": "stream",
     "text": [
      "3\n",
      "6\n",
      "9\n",
      "12\n",
      "15\n",
      "18\n",
      "21\n",
      "24\n",
      "27\n",
      "30\n"
     ]
    }
   ],
   "source": [
    "for i in range (3,31,3):\n",
    "    print(i)"
   ]
  },
  {
   "cell_type": "code",
   "execution_count": 17,
   "id": "a40dc810-02fd-47fd-a6bd-7bfa5a2371cf",
   "metadata": {},
   "outputs": [
    {
     "name": "stdout",
     "output_type": "stream",
     "text": [
      "0\n",
      "1\n",
      "2\n",
      "3\n",
      "4\n",
      "5\n",
      "6\n",
      "7\n",
      "8\n",
      "9\n"
     ]
    }
   ],
   "source": [
    "for i in range(10):\n",
    "    print(i)"
   ]
  },
  {
   "cell_type": "code",
   "execution_count": 19,
   "id": "9c013fc7-c237-4cf1-bbdb-f0463646504e",
   "metadata": {},
   "outputs": [
    {
     "name": "stdout",
     "output_type": "stream",
     "text": [
      "hello\n",
      "hello\n",
      "hello\n",
      "hello\n",
      "hello\n"
     ]
    }
   ],
   "source": [
    "for i in range(5):\n",
    "    print(\"hello\")"
   ]
  },
  {
   "cell_type": "code",
   "execution_count": 20,
   "id": "f255f32a-99f9-41e4-8e7d-c2245bc26b94",
   "metadata": {},
   "outputs": [
    {
     "name": "stdout",
     "output_type": "stream",
     "text": [
      ".\n",
      "..\n",
      "...\n",
      "....\n",
      ".....\n"
     ]
    }
   ],
   "source": [
    "for i in range(1,6):\n",
    "    print('.' * i)\n"
   ]
  },
  {
   "cell_type": "code",
   "execution_count": 21,
   "id": "5637cd25-e525-43c0-afb1-17faf52cde98",
   "metadata": {},
   "outputs": [
    {
     "name": "stdout",
     "output_type": "stream",
     "text": [
      "5\n",
      "4\n",
      "3\n",
      "2\n",
      "1\n"
     ]
    }
   ],
   "source": [
    "for i in range(5,0,-1): #for reveerse order\n",
    "    print(i)"
   ]
  },
  {
   "cell_type": "code",
   "execution_count": 22,
   "id": "a18ef442-4cc2-4492-a550-4e9112ddfade",
   "metadata": {},
   "outputs": [
    {
     "name": "stdout",
     "output_type": "stream",
     "text": [
      ".....\n",
      "....\n",
      "...\n",
      "..\n",
      ".\n"
     ]
    }
   ],
   "source": [
    "for i in range(5,0,-1):\n",
    "     print('.' * i)"
   ]
  },
  {
   "cell_type": "code",
   "execution_count": 23,
   "id": "b4d80949-33a5-4b3b-a845-18b8dac7a2c8",
   "metadata": {},
   "outputs": [
    {
     "name": "stdout",
     "output_type": "stream",
     "text": [
      "python\n",
      "python\n",
      "python\n",
      "python\n",
      "python\n"
     ]
    }
   ],
   "source": [
    "for i in 'hello':\n",
    "    print('python')"
   ]
  },
  {
   "cell_type": "markdown",
   "id": "f91d8f40-c68c-4a39-ac60-a288b6915670",
   "metadata": {},
   "source": [
    "# nested loop"
   ]
  },
  {
   "cell_type": "code",
   "execution_count": 24,
   "id": "465134c8-4cda-4007-86cf-dbf395fb0f29",
   "metadata": {},
   "outputs": [],
   "source": [
    "l=[1,2,3,4,[10,20,30],5,6]\n"
   ]
  },
  {
   "cell_type": "code",
   "execution_count": 25,
   "id": "9eb5eee3-b1e4-40dd-b8c0-fb5b13fa06ac",
   "metadata": {},
   "outputs": [
    {
     "name": "stdout",
     "output_type": "stream",
     "text": [
      "1\n",
      "2\n",
      "3\n",
      "4\n",
      "[10, 20, 30]\n",
      "5\n",
      "6\n"
     ]
    }
   ],
   "source": [
    "for i in l:\n",
    "    print(i)\n",
    "    "
   ]
  },
  {
   "cell_type": "code",
   "execution_count": 26,
   "id": "a57a17dc-cd59-4510-93b5-93a5b31d4073",
   "metadata": {},
   "outputs": [],
   "source": [
    "# check data types"
   ]
  },
  {
   "cell_type": "code",
   "execution_count": 12,
   "id": "bba5e10a-ebed-4d01-ae05-ca540f155055",
   "metadata": {},
   "outputs": [],
   "source": [
    "d= [1,1.5,10+5j,'hello',True]\n"
   ]
  },
  {
   "cell_type": "code",
   "execution_count": 29,
   "id": "a2a3b4ec-7518-44fb-9605-1b940541ee1c",
   "metadata": {},
   "outputs": [
    {
     "name": "stdout",
     "output_type": "stream",
     "text": [
      "<class 'int'> 1\n",
      "<class 'int'> 1\n",
      "<class 'int'> 5\n",
      "<class 'complex'> (10+5j)\n",
      "<class 'str'> hello\n",
      "<class 'bool'> True\n"
     ]
    }
   ],
   "source": [
    "for i in d:\n",
    "    print(type(i), i)"
   ]
  },
  {
   "cell_type": "code",
   "execution_count": 30,
   "id": "a217287c-0d83-4c61-af02-177a77e713ba",
   "metadata": {},
   "outputs": [],
   "source": [
    "# filter out int type data \n"
   ]
  },
  {
   "cell_type": "code",
   "execution_count": 2,
   "id": "0db637b4-6b8b-4e9d-9f3d-fac693057cd6",
   "metadata": {},
   "outputs": [],
   "source": [
    "f=[10,15,3,4,'h',True]"
   ]
  },
  {
   "cell_type": "code",
   "execution_count": 33,
   "id": "438e486b-41ff-4e40-bbe9-c81834afdbe5",
   "metadata": {},
   "outputs": [
    {
     "name": "stdout",
     "output_type": "stream",
     "text": [
      "10\n",
      "15\n",
      "3\n",
      "4\n",
      "h\n",
      "True\n"
     ]
    }
   ],
   "source": [
    "for i in f:\n",
    "    print(i)"
   ]
  },
  {
   "cell_type": "code",
   "execution_count": 3,
   "id": "982c7291-d278-4977-b559-f6c3e1ccf17d",
   "metadata": {},
   "outputs": [
    {
     "name": "stdout",
     "output_type": "stream",
     "text": [
      "10\n",
      "15\n",
      "3\n",
      "4\n"
     ]
    }
   ],
   "source": [
    "for i in f:\n",
    "    if type(i) == int:\n",
    "        print(i)\n"
   ]
  },
  {
   "cell_type": "code",
   "execution_count": 38,
   "id": "e3fecca2-787b-4fcb-8be5-9cd64a82376e",
   "metadata": {},
   "outputs": [
    {
     "data": {
      "text/plain": [
       "int"
      ]
     },
     "execution_count": 38,
     "metadata": {},
     "output_type": "execute_result"
    }
   ],
   "source": [
    "type(10)"
   ]
  },
  {
   "cell_type": "code",
   "execution_count": 39,
   "id": "5c1b696f-e049-4df0-a07d-163b8e35820f",
   "metadata": {},
   "outputs": [
    {
     "data": {
      "text/plain": [
       "True"
      ]
     },
     "execution_count": 39,
     "metadata": {},
     "output_type": "execute_result"
    }
   ],
   "source": [
    "'int' == 'int'"
   ]
  },
  {
   "cell_type": "code",
   "execution_count": 4,
   "id": "9c019d30-ef63-43a1-8459-7fe7ee6f606c",
   "metadata": {},
   "outputs": [
    {
     "data": {
      "text/plain": [
       "float"
      ]
     },
     "execution_count": 4,
     "metadata": {},
     "output_type": "execute_result"
    }
   ],
   "source": [
    "type(15.5)"
   ]
  },
  {
   "cell_type": "code",
   "execution_count": 13,
   "id": "f4c23479-53e9-42fd-9871-a853e96bd50a",
   "metadata": {},
   "outputs": [
    {
     "name": "stdout",
     "output_type": "stream",
     "text": [
      "1.5\n"
     ]
    }
   ],
   "source": [
    "for i in d:\n",
    "    if type(i) == float:\n",
    "        print(i)"
   ]
  },
  {
   "cell_type": "code",
   "execution_count": 15,
   "id": "7029e0ca-2d4c-40eb-b16f-7f05fb4b1d19",
   "metadata": {},
   "outputs": [
    {
     "name": "stdout",
     "output_type": "stream",
     "text": [
      "1.5\n"
     ]
    }
   ],
   "source": [
    "for i in d:\n",
    "    if type(i) == float:\n",
    "        print(i)"
   ]
  },
  {
   "cell_type": "code",
   "execution_count": 16,
   "id": "4b419567-f488-4e6b-97c6-a62331854b9e",
   "metadata": {},
   "outputs": [],
   "source": [
    "# int and float"
   ]
  },
  {
   "cell_type": "code",
   "execution_count": 20,
   "id": "c5cdec2f-8191-4eec-8446-2f55d4f1f056",
   "metadata": {},
   "outputs": [
    {
     "name": "stdout",
     "output_type": "stream",
     "text": [
      "1\n",
      "1.5\n"
     ]
    }
   ],
   "source": [
    "for i in d:\n",
    "    if type(i) == int:\n",
    "        print(i)\n",
    "    elif type(i) == float:\n",
    "        print(i)"
   ]
  },
  {
   "cell_type": "code",
   "execution_count": 19,
   "id": "6fd3ac2c-c7e0-46b2-a30c-381ccbf4ca56",
   "metadata": {},
   "outputs": [
    {
     "data": {
      "text/plain": [
       "[10, 15, 3, 4, 'h', True]"
      ]
     },
     "execution_count": 19,
     "metadata": {},
     "output_type": "execute_result"
    }
   ],
   "source": [
    "f"
   ]
  },
  {
   "cell_type": "code",
   "execution_count": 26,
   "id": "fc3ca90c-5ef8-4837-bd3c-1a4b67f0c3d4",
   "metadata": {},
   "outputs": [],
   "source": [
    "mix_list = [[1,2,3,4], (10,20,30), {12,13,14}]"
   ]
  },
  {
   "cell_type": "code",
   "execution_count": 27,
   "id": "f6899c7d-17a0-4b5f-a4a6-eed516b09100",
   "metadata": {},
   "outputs": [
    {
     "name": "stdout",
     "output_type": "stream",
     "text": [
      "[1, 2, 3, 4]\n",
      "(10, 20, 30)\n",
      "{12, 13, 14}\n"
     ]
    }
   ],
   "source": [
    "for i in mix_list:\n",
    "    print(i)"
   ]
  },
  {
   "cell_type": "code",
   "execution_count": 29,
   "id": "89f349b0-6daf-4877-908b-fa8a5a27a346",
   "metadata": {},
   "outputs": [
    {
     "name": "stdout",
     "output_type": "stream",
     "text": [
      "[1, 2, 3, 4] <class 'list'>\n",
      "(10, 20, 30) <class 'tuple'>\n",
      "{12, 13, 14} <class 'set'>\n"
     ]
    }
   ],
   "source": [
    "for i in mix_list:\n",
    "    print(i,type(i))"
   ]
  },
  {
   "cell_type": "code",
   "execution_count": 31,
   "id": "52bda827-8a81-4c3a-9666-a0d166130b44",
   "metadata": {},
   "outputs": [
    {
     "name": "stdout",
     "output_type": "stream",
     "text": [
      "(10, 20, 30)\n"
     ]
    }
   ],
   "source": [
    "for i in mix_list:\n",
    "    if type(i) == tuple:\n",
    "        print(i)"
   ]
  },
  {
   "cell_type": "code",
   "execution_count": 33,
   "id": "8d012c82-adb2-4d03-a4ff-7fbba197b6df",
   "metadata": {},
   "outputs": [
    {
     "name": "stdout",
     "output_type": "stream",
     "text": [
      "[1, 2, 3, 4]\n"
     ]
    }
   ],
   "source": [
    "for i in mix_list:\n",
    "    if type(i) == list:\n",
    "        print(i)"
   ]
  },
  {
   "cell_type": "code",
   "execution_count": 34,
   "id": "6f20544c-79c3-4448-910a-92cbfb0e1ad5",
   "metadata": {},
   "outputs": [
    {
     "data": {
      "text/plain": [
       "[[1, 2, 3, 4], (10, 20, 30), {12, 13, 14}]"
      ]
     },
     "execution_count": 34,
     "metadata": {},
     "output_type": "execute_result"
    }
   ],
   "source": [
    "mix_list"
   ]
  },
  {
   "cell_type": "code",
   "execution_count": 35,
   "id": "3f7ff120-53e3-4804-8b9c-50083edc6011",
   "metadata": {},
   "outputs": [
    {
     "name": "stdout",
     "output_type": "stream",
     "text": [
      "1\n",
      "2\n",
      "3\n",
      "4\n"
     ]
    }
   ],
   "source": [
    "for i in mix_list:\n",
    "    if type(i) == list:\n",
    "        for num in i:\n",
    "            print(num)"
   ]
  },
  {
   "cell_type": "code",
   "execution_count": 40,
   "id": "bbd72db2-71ec-487a-b7bd-5fce37d4f131",
   "metadata": {},
   "outputs": [],
   "source": [
    "l1= [1,2,3,[10,20,30],4,5]"
   ]
  },
  {
   "cell_type": "code",
   "execution_count": 41,
   "id": "d2192d13-5695-4b6d-9517-6b6429485147",
   "metadata": {},
   "outputs": [
    {
     "name": "stdout",
     "output_type": "stream",
     "text": [
      "1\n",
      "2\n",
      "3\n",
      "[10, 20, 30]\n",
      "4\n",
      "5\n"
     ]
    }
   ],
   "source": [
    "for i in l1:\n",
    "    print(i)"
   ]
  },
  {
   "cell_type": "code",
   "execution_count": 45,
   "id": "8a35456b-f8c4-45e7-8ee5-4aa47b601508",
   "metadata": {},
   "outputs": [
    {
     "name": "stdout",
     "output_type": "stream",
     "text": [
      "1\n",
      "2\n",
      "3\n",
      "10\n",
      "20\n",
      "30\n",
      "4\n",
      "5\n"
     ]
    }
   ],
   "source": [
    "for i in l1:\n",
    "    if type(i) == int:\n",
    "        print(i)\n",
    "    elif type(i) == list:\n",
    "        for num in i:\n",
    "            print(num)\n",
    "        "
   ]
  },
  {
   "cell_type": "code",
   "execution_count": null,
   "id": "db77e425-eeea-4efc-a3ca-3c9b474c3888",
   "metadata": {},
   "outputs": [],
   "source": []
  },
  {
   "cell_type": "code",
   "execution_count": null,
   "id": "c70d8eb0-2234-4986-85ff-1e7d6ece2b60",
   "metadata": {},
   "outputs": [],
   "source": []
  }
 ],
 "metadata": {
  "kernelspec": {
   "display_name": "Python 3 (ipykernel)",
   "language": "python",
   "name": "python3"
  },
  "language_info": {
   "codemirror_mode": {
    "name": "ipython",
    "version": 3
   },
   "file_extension": ".py",
   "mimetype": "text/x-python",
   "name": "python",
   "nbconvert_exporter": "python",
   "pygments_lexer": "ipython3",
   "version": "3.12.7"
  }
 },
 "nbformat": 4,
 "nbformat_minor": 5
}
